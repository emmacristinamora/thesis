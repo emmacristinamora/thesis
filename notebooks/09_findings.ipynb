{
 "cells": [
  {
   "cell_type": "markdown",
   "metadata": {},
   "source": [
    "# Findings"
   ]
  },
  {
   "cell_type": "code",
   "execution_count": 1,
   "metadata": {},
   "outputs": [],
   "source": [
    "# === SETUP ===\n",
    "\n",
    "# standard libraries\n",
    "from pathlib import Path\n",
    "import pandas as pd\n",
    "import numpy as np\n",
    "import re\n",
    "from tqdm import tqdm\n",
    "import json\n",
    "\n",
    "# for plotting\n",
    "import matplotlib.pyplot as plt\n",
    "import seaborn as sns\n",
    "\n",
    "# paths\n",
    "REPO_DIR = Path(\".\").resolve().parents[0]\n",
    "DATA = REPO_DIR / \"data\"\n",
    "FINDINGS = REPO_DIR / \"results\" / \"final_findings\"\n",
    "FIGURES = FINDINGS / \"figures\"\n",
    "FINDINGS.mkdir(parents=True, exist_ok=True)\n",
    "FIGURES.mkdir(parents=True, exist_ok=True)\n",
    "DEBATES = DATA / \"debates_full.csv\"\n",
    "MEDIA = DATA / \"media_balanced.csv\"\n",
    "\n",
    "# color palette\n",
    "with open(Path(REPO_DIR / \"color_palette_config.json\")) as f:\n",
    "    palette = json.load(f)\n",
    "\n",
    "# load data\n",
    "debates = pd.read_csv(DEBATES)\n",
    "media = pd.read_csv(MEDIA)"
   ]
  }
 ],
 "metadata": {
  "kernelspec": {
   "display_name": "thesis-nlp",
   "language": "python",
   "name": "python3"
  },
  "language_info": {
   "codemirror_mode": {
    "name": "ipython",
    "version": 3
   },
   "file_extension": ".py",
   "mimetype": "text/x-python",
   "name": "python",
   "nbconvert_exporter": "python",
   "pygments_lexer": "ipython3",
   "version": "3.10.18"
  }
 },
 "nbformat": 4,
 "nbformat_minor": 2
}
