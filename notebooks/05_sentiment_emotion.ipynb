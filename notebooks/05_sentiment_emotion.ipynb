{
  "cells": [
    {
      "cell_type": "markdown",
      "metadata": {
        "id": "T7WbNiSLRytX"
      },
      "source": [
        "# Sentiment and Emotion Analysis"
      ]
    },
    {
      "cell_type": "markdown",
      "metadata": {},
      "source": [
        "This notebook documents the **Sentiment & Emotion Analysis pipeline** for the BSc thesis:  \n",
        "`Debates, Media, and Discourse: A Computational Analysis of Temporal Shifts in U.S. Presidential Debates and Media Framing Across the Political Spectrum`, written by **Emma Cristina Mora** (emma.mora@studbocconi.it) at **Bocconi University** under the supervision of **Professor Carlo Rasmus Schwarz**.\n",
        "\n",
        "The purpose of this stage is to measure **sentiment polarity** (positive / neutral / negative) and **emotional tone** (anger, fear, joy, sadness, disgust, surprise) in U.S. presidential debates (1960–2024) and in media coverage (Factiva articles from *New York Times*, *Wall Street Journal*, and *New York Post*, 2012–2024). This allows us to track how the **tone of discourse** has evolved over time and compare partisan debates to media outlets across the political spectrum.\n",
        "\n",
        "**Sentiment Classification**\n",
        "- Model: `cardiffnlp/twitter-roberta-base-sentiment-latest` (RoBERTa, 3-class).  \n",
        "- Predictions: *positive, neutral, negative* with confidence scores.  \n",
        "- Applied to:  \n",
        "  - Debate utterances (≈ 9,300)  \n",
        "  - Media chunks (balanced 675)  \n",
        "- Outputs: slim datasets with `sentiment_label`, `sentiment_score`, and `sentiment_final` (after threshold filtering).\n",
        "\n",
        "**Emotion Classification (Optional)**\n",
        "- Model: `joeddav/distilbert-base-uncased-go-emotions-student` (GoEmotions).  \n",
        "- Original 27 categories mapped into **Ekman’s 6 emotions** + *neutral*.  \n",
        "- Applied to the same debates and media chunks.  \n",
        "- Outputs: `emotion_label`, `emotion_score`, and `emotion_final` (after filtering).\n",
        "\n",
        "**Quality Control**\n",
        "- Section 5 explores score distributions and confidence margins for both sentiment and emotions.  \n",
        "- Thresholds were applied, marking uncertain predictions as `\"unspecified\"`.  \n",
        "- Results show that media often contain noisier sentiment/emotion signals compared to debates.\n",
        "\n",
        "**Notebook Summary**\n",
        "- Section 1: Setup and configuration (libraries, file paths, constants).  \n",
        "- Section 2: Load debates and media datasets.  \n",
        "- Section 3: Model setup (RoBERTa sentiment + GoEmotions with Ekman mapping).  \n",
        "- Section 4: Apply classifiers to debates and media (slim outputs).  \n",
        "- Section 5: Quality controls, distributions, filtering, and exports.  \n",
        "- Final exports:  \n",
        "  - `debates_sentiment_emotions.csv`  \n",
        "  - `media_sentiment_emotions.csv`"
      ]
    },
    {
      "cell_type": "markdown",
      "metadata": {
        "id": "pgsyzPKWRytY"
      },
      "source": [
        "## 1. Introduction and Config"
      ]
    },
    {
      "cell_type": "code",
      "execution_count": 18,
      "metadata": {
        "id": "EuMkvV-hRytY"
      },
      "outputs": [],
      "source": [
        "# === LIBRARIES ===\n",
        "\n",
        "from pathlib import Path\n",
        "import pandas as pd\n",
        "import numpy as np\n",
        "import matplotlib.pyplot as plt\n",
        "import seaborn as sns\n",
        "import os\n",
        "import re\n",
        "import tqdm"
      ]
    },
    {
      "cell_type": "code",
      "execution_count": 19,
      "metadata": {
        "colab": {
          "base_uri": "https://localhost:8080/"
        },
        "id": "R4F_gG3IRytZ",
        "outputId": "91a63c5d-c817-4ef4-e8ad-771df098a282"
      },
      "outputs": [
        {
          "name": "stdout",
          "output_type": "stream",
          "text": [
            "Drive already mounted at /content/drive; to attempt to forcibly remount, call drive.mount(\"/content/drive\", force_remount=True).\n",
            "Repository Path: /content/drive/MyDrive/thesis/data\n",
            "Debates Dataset: /content/drive/MyDrive/thesis/data/debates/topic modeling/debates_df_themes.csv\n",
            "Media Dataset: /content/drive/MyDrive/thesis/data/debates-media alignment/media_chunks_pred_balanced.csv\n"
          ]
        }
      ],
      "source": [
        "# === PATHS & CONSTANTS ===\n",
        "\n",
        "from google.colab import drive\n",
        "drive.mount('/content/drive')\n",
        "\n",
        "REPO_DIR   = REPO_DIR = Path(\"/content/drive/MyDrive/thesis/data/\")\n",
        "\n",
        "DEBATES_FILE = REPO_DIR / \"debates\" / \"topic modeling\" / \"debates_df_themes.csv\"\n",
        "MEDIA_FILE  = REPO_DIR / \"debates-media alignment\" / \"media_chunks_pred_balanced.csv\"\n",
        "\n",
        "# confirm setup\n",
        "print(\"Repository Path:\", REPO_DIR)\n",
        "print(\"Debates Dataset:\", DEBATES_FILE)\n",
        "print(\"Media Dataset:\", MEDIA_FILE)\n",
        "\n",
        "# reproducibility\n",
        "RANDOM_SEED = 42"
      ]
    },
    {
      "cell_type": "markdown",
      "metadata": {
        "id": "E6kh_tXERytZ"
      },
      "source": [
        "## 2. Load Data"
      ]
    },
    {
      "cell_type": "code",
      "execution_count": 20,
      "metadata": {
        "colab": {
          "base_uri": "https://localhost:8080/"
        },
        "id": "Eldgz4xARytZ",
        "outputId": "0cd3ab5e-d7fd-4e8d-d694-4063f66f3c6d"
      },
      "outputs": [
        {
          "name": "stdout",
          "output_type": "stream",
          "text": [
            "[INFO] Debates dataset (full) loaded: 6,316 rows\n",
            "                                                text speaker_normalized  \\\n",
            "0  good evening. the television and radio station...          Moderator   \n",
            "1  mr. smith, mr. nixon. in the election of 1860,...        Candidate_D   \n",
            "2  mr. smith, senator kennedy. the things that se...        Candidate_R   \n",
            "\n",
            "     speaker       party   winner winner_party  year   debate_type  \\\n",
            "0  Moderator         NaN  Kennedy     Democrat  1960  presidential   \n",
            "1    Kennedy    Democrat  Kennedy     Democrat  1960  presidential   \n",
            "2      Nixon  Republican  Kennedy     Democrat  1960  presidential   \n",
            "\n",
            "                           debate_id                           utterance_id  \\\n",
            "0  1960_1_Presidential_Nixon_Kennedy  1960_1_Presidential_Nixon_Kennedy_001   \n",
            "1  1960_1_Presidential_Nixon_Kennedy  1960_1_Presidential_Nixon_Kennedy_002   \n",
            "2  1960_1_Presidential_Nixon_Kennedy  1960_1_Presidential_Nixon_Kennedy_004   \n",
            "\n",
            "                                     lemmatized_text  token_count decade  \\\n",
            "0  good evening the television and radio station ...          146  1960s   \n",
            "1  mr smith mr nixon in the election of 1860 abra...         1290  1960s   \n",
            "2  mr smith senator kennedy the thing that senato...         1406  1960s   \n",
            "\n",
            "  party_code  topic  probability                        theme_name  \\\n",
            "0        NaN      6     0.289106           debate_format_procedure   \n",
            "1          D      0     0.184597  foreign_policy_national_security   \n",
            "2          R      0     0.154407  foreign_policy_national_security   \n",
            "\n",
            "                            subtheme_name  subtopic  subtopic_prob  \n",
            "0                                     NaN      -1.0       0.332321  \n",
            "1  historical_foreign_policy_cuba_vietnam       5.0       1.000000  \n",
            "2  historical_foreign_policy_cuba_vietnam       5.0       1.000000  \n",
            "\n",
            "[INFO] Columns: ['text', 'speaker_normalized', 'speaker', 'party', 'winner', 'winner_party', 'year', 'debate_type', 'debate_id', 'utterance_id', 'lemmatized_text', 'token_count', 'decade', 'party_code', 'topic', 'probability', 'theme_name', 'subtheme_name', 'subtopic', 'subtopic_prob']\n"
          ]
        }
      ],
      "source": [
        "# === DEBATES DATASET (whole data) ===\n",
        "\n",
        "# load debates dataset and inspect schema\n",
        "df_debates = pd.read_csv(DEBATES_FILE)\n",
        "\n",
        "print(f\"[INFO] Debates dataset (full) loaded: {len(df_debates):,} rows\")\n",
        "print(df_debates.head(3))\n",
        "print(\"\\n[INFO] Columns:\", list(df_debates.columns))"
      ]
    },
    {
      "cell_type": "code",
      "execution_count": 21,
      "metadata": {
        "colab": {
          "base_uri": "https://localhost:8080/"
        },
        "id": "aprC6NiQRyta",
        "outputId": "5f5330f7-86dc-481b-97f7-db25eccd0e5a"
      },
      "outputs": [
        {
          "name": "stdout",
          "output_type": "stream",
          "text": [
            "[INFO] Media dataset (balanced) loaded: 675 rows\n",
            "   __media_id  year outlet                      source_theme  chunk_index  \\\n",
            "0         440  2016    nyp          healthcare_public_health            2   \n",
            "1         444  2016    nyp          healthcare_public_health            1   \n",
            "2         278  2024    nyp  foreign_policy_national_security            7   \n",
            "\n",
            "                                          chunk_text  \\\n",
            "0  stone said. jonathan gruber, the mit professor...   \n",
            "1  \"we're thinking of having him in the spin room...   \n",
            "2  iowa caucuses. trump was right when he accused...   \n",
            "\n",
            "                   pred_theme  pred_sim                second_theme  \\\n",
            "0  healthcare_social_security  0.724106     public_health_pandemics   \n",
            "1  healthcare_social_security  0.717676     public_health_pandemics   \n",
            "2     judiciary_supreme_court  0.747351  healthcare_social_security   \n",
            "\n",
            "   second_sim    margin                                      chunk_preview  \\\n",
            "0    0.448441  0.275665  stone said. jonathan gruber, the mit professor...   \n",
            "1    0.457137  0.260539  \"we're thinking of having him in the spin room...   \n",
            "2    0.472085  0.275266  iowa caucuses. trump was right when he accused...   \n",
            "\n",
            "         pred_subtheme_parent                       pred_subtheme  \\\n",
            "0  healthcare_social_security    affordable_care_health_insurance   \n",
            "1  healthcare_social_security    affordable_care_health_insurance   \n",
            "2     judiciary_supreme_court  abortion_constitutional_amendments   \n",
            "\n",
            "   pred_sub_sim  second_sub_idx  second_sub_sim  sub_margin  conf_score  \\\n",
            "0      0.766135              11        0.441139    0.324996    1.790572   \n",
            "1      0.766088              11        0.457924    0.308163    1.768115   \n",
            "2      0.750267              10        0.517776    0.232491    1.751496   \n",
            "\n",
            "  outlet_leaning  \n",
            "0              R  \n",
            "1              R  \n",
            "2              R  \n",
            "\n",
            "[INFO] Columns: ['__media_id', 'year', 'outlet', 'source_theme', 'chunk_index', 'chunk_text', 'pred_theme', 'pred_sim', 'second_theme', 'second_sim', 'margin', 'chunk_preview', 'pred_subtheme_parent', 'pred_subtheme', 'pred_sub_sim', 'second_sub_idx', 'second_sub_sim', 'sub_margin', 'conf_score', 'outlet_leaning']\n"
          ]
        }
      ],
      "source": [
        "# === MEDIA DATASET (balanced per outlet) ===\n",
        "\n",
        "# load media dataset and inspect schema\n",
        "df_media = pd.read_csv(MEDIA_FILE)\n",
        "\n",
        "print(f\"[INFO] Media dataset (balanced) loaded: {len(df_media):,} rows\")\n",
        "print(df_media.head(3))\n",
        "print(\"\\n[INFO] Columns:\", list(df_media.columns))"
      ]
    },
    {
      "cell_type": "markdown",
      "metadata": {
        "id": "JRAOTja4Ryta"
      },
      "source": [
        "## 3. Model Setup & Emotions Mapping"
      ]
    },
    {
      "cell_type": "code",
      "execution_count": 22,
      "metadata": {
        "colab": {
          "base_uri": "https://localhost:8080/"
        },
        "id": "sQp_UxStSZJ3",
        "outputId": "6aaacf82-9cb9-4917-d238-057379096734"
      },
      "outputs": [
        {
          "name": "stderr",
          "output_type": "stream",
          "text": [
            "Some weights of the model checkpoint at cardiffnlp/twitter-roberta-base-sentiment-latest were not used when initializing RobertaForSequenceClassification: ['roberta.pooler.dense.bias', 'roberta.pooler.dense.weight']\n",
            "- This IS expected if you are initializing RobertaForSequenceClassification from the checkpoint of a model trained on another task or with another architecture (e.g. initializing a BertForSequenceClassification model from a BertForPreTraining model).\n",
            "- This IS NOT expected if you are initializing RobertaForSequenceClassification from the checkpoint of a model that you expect to be exactly identical (initializing a BertForSequenceClassification model from a BertForSequenceClassification model).\n",
            "Device set to use cuda:0\n"
          ]
        },
        {
          "name": "stdout",
          "output_type": "stream",
          "text": [
            "[INFO] Sentiment model loaded: cardiffnlp/twitter-roberta-base-sentiment-latest\n"
          ]
        },
        {
          "name": "stderr",
          "output_type": "stream",
          "text": [
            "/usr/local/lib/python3.12/dist-packages/transformers/pipelines/text_classification.py:111: UserWarning: `return_all_scores` is now deprecated,  if want a similar functionality use `top_k=None` instead of `return_all_scores=True` or `top_k=1` instead of `return_all_scores=False`.\n",
            "  warnings.warn(\n"
          ]
        }
      ],
      "source": [
        "# === SENTIMENT MODEL SETUP ===\n",
        "# CardiffNLP RoBERTa sentiment (3-class: positive / neutral / negative)\n",
        "\n",
        "import torch\n",
        "from transformers import AutoTokenizer, AutoModelForSequenceClassification, pipeline\n",
        "\n",
        "SENTIMENT_MODEL = \"cardiffnlp/twitter-roberta-base-sentiment-latest\"\n",
        "\n",
        "sentiment_classifier = pipeline(\n",
        "    \"text-classification\",\n",
        "    model=SENTIMENT_MODEL,\n",
        "    tokenizer=SENTIMENT_MODEL,\n",
        "    device=0 if torch.cuda.is_available() else -1,\n",
        "    return_all_scores=True  # important to get probabilities for all 3 classes\n",
        ")\n",
        "\n",
        "print(f\"[INFO] Sentiment model loaded: {SENTIMENT_MODEL}\")"
      ]
    },
    {
      "cell_type": "code",
      "execution_count": 23,
      "metadata": {
        "colab": {
          "base_uri": "https://localhost:8080/"
        },
        "id": "FhO7awRRSlHf",
        "outputId": "3d3006a6-0e1e-4c86-98fb-4e58ee0abafe"
      },
      "outputs": [
        {
          "name": "stderr",
          "output_type": "stream",
          "text": [
            "Device set to use cuda:0\n"
          ]
        },
        {
          "name": "stdout",
          "output_type": "stream",
          "text": [
            "[INFO] Emotion model loaded: joeddav/distilbert-base-uncased-go-emotions-student\n"
          ]
        }
      ],
      "source": [
        "# === EMOTION MODEL SETUP ===\n",
        "# GoEmotions student model (27 categories + neutral)\n",
        "# we'll map them later to 6 Ekman categories for interpretability\n",
        "\n",
        "EMOTION_MODEL = \"joeddav/distilbert-base-uncased-go-emotions-student\"\n",
        "\n",
        "emotion_classifier = pipeline(\n",
        "    \"text-classification\",\n",
        "    model=EMOTION_MODEL,\n",
        "    tokenizer=EMOTION_MODEL,\n",
        "    device=0 if torch.cuda.is_available() else -1,\n",
        "    return_all_scores=True\n",
        ")\n",
        "\n",
        "print(f\"[INFO] Emotion model loaded: {EMOTION_MODEL}\")"
      ]
    },
    {
      "cell_type": "code",
      "execution_count": 24,
      "metadata": {
        "colab": {
          "base_uri": "https://localhost:8080/"
        },
        "id": "WexDdvdZSs8e",
        "outputId": "67aeac82-5181-4182-bce8-2b25a14ad771"
      },
      "outputs": [
        {
          "name": "stdout",
          "output_type": "stream",
          "text": [
            "[INFO] Mapping defined: 7 categories\n",
            "Categories: ['anger', 'disgust', 'fear', 'joy', 'neutral', 'sadness', 'surprise']\n"
          ]
        }
      ],
      "source": [
        "# === EMOTIONS MAPPING (GoEmotions → Ekman 6 + Neutral) ===\n",
        "# from Google GoEmotions paper (Demszky et al., 2020)\n",
        "\n",
        "GOEMOTIONS_TO_EKMAN = {\n",
        "    \"admiration\": \"joy\",\n",
        "    \"amusement\": \"joy\",\n",
        "    \"approval\": \"joy\",\n",
        "    \"caring\": \"joy\",\n",
        "    \"desire\": \"joy\",\n",
        "    \"excitement\": \"joy\",\n",
        "    \"gratitude\": \"joy\",\n",
        "    \"love\": \"joy\",\n",
        "    \"optimism\": \"joy\",\n",
        "    \"pride\": \"joy\",\n",
        "    \"relief\": \"joy\",\n",
        "\n",
        "    \"anger\": \"anger\",\n",
        "    \"annoyance\": \"anger\",\n",
        "    \"disapproval\": \"anger\",\n",
        "\n",
        "    \"disgust\": \"disgust\",\n",
        "\n",
        "    \"fear\": \"fear\",\n",
        "    \"nervousness\": \"fear\",\n",
        "\n",
        "    \"sadness\": \"sadness\",\n",
        "    \"disappointment\": \"sadness\",\n",
        "    \"embarrassment\": \"sadness\",\n",
        "    \"grief\": \"sadness\",\n",
        "    \"remorse\": \"sadness\",\n",
        "\n",
        "    \"surprise\": \"surprise\",\n",
        "    \"realization\": \"surprise\",\n",
        "    \"confusion\": \"surprise\",\n",
        "\n",
        "    \"neutral\": \"neutral\"  # keep neutral as is\n",
        "}\n",
        "\n",
        "print(f\"[INFO] Mapping defined: {len(set(GOEMOTIONS_TO_EKMAN.values()))} categories\")\n",
        "print(\"Categories:\", sorted(set(GOEMOTIONS_TO_EKMAN.values())))"
      ]
    },
    {
      "cell_type": "code",
      "execution_count": 25,
      "metadata": {
        "id": "eakBDFTnS6Ui"
      },
      "outputs": [],
      "source": [
        "# === HELPER FUNCTIONS ===\n",
        "\n",
        "def classify_sentiment(texts):\n",
        "    \"\"\"\n",
        "    Run sentiment classification (pos/neu/neg) on list of texts.\n",
        "    Returns DataFrame with best label and score.\n",
        "    \"\"\"\n",
        "    results = sentiment_classifier(\n",
        "        texts,\n",
        "        truncation=True,\n",
        "        max_length=512,   # force cutoff at model’s limit\n",
        "        padding=True      # pad shorter texts\n",
        "    )\n",
        "    rows = []\n",
        "    for res in results:\n",
        "        best = max(res, key=lambda x: x[\"score\"])\n",
        "        rows.append({\n",
        "            \"sentiment_label\": best[\"label\"].lower(),\n",
        "            \"sentiment_score\": float(best[\"score\"]),\n",
        "            \"sentiment_probs\": {r[\"label\"].lower(): r[\"score\"] for r in res}\n",
        "        })\n",
        "    return pd.DataFrame(rows)\n",
        "\n",
        "\n",
        "def classify_emotions(texts, batch_size=32):\n",
        "    \"\"\"\n",
        "    Run GoEmotions classification on list of texts.\n",
        "    Maps original 27 labels → Ekman 6 categories.\n",
        "    Returns a DataFrame with best mapped label and score.\n",
        "    \"\"\"\n",
        "    rows = []\n",
        "    for i in tqdm.tqdm(range(0, len(texts), batch_size), desc=\"Classifying Emotions\"):\n",
        "        batch = texts[i:i+batch_size]\n",
        "        results = emotion_classifier(\n",
        "            batch,\n",
        "            truncation=True,\n",
        "            max_length=512,   # ensure model cutoff\n",
        "            padding=True,\n",
        "            return_all_scores=True\n",
        "        )\n",
        "        for res in results:\n",
        "            # map to Ekman categories\n",
        "            mapped_scores = {}\n",
        "            for r in res:\n",
        "                mapped = GOEMOTIONS_TO_EKMAN.get(r[\"label\"], None)\n",
        "                if mapped:\n",
        "                    mapped_scores[mapped] = mapped_scores.get(mapped, 0.0) + r[\"score\"]\n",
        "\n",
        "            # pick best category\n",
        "            best_label = max(mapped_scores, key=mapped_scores.get)\n",
        "            best_score = mapped_scores[best_label]\n",
        "            rows.append({\n",
        "                \"emotion_label\": best_label,\n",
        "                \"emotion_score\": float(best_score),\n",
        "                \"emotion_probs\": mapped_scores\n",
        "            })\n",
        "    return pd.DataFrame(rows)"
      ]
    },
    {
      "cell_type": "markdown",
      "metadata": {
        "id": "f3KyHuj4Ryta"
      },
      "source": [
        "## 4. Apply to Datasets"
      ]
    },
    {
      "cell_type": "markdown",
      "metadata": {
        "id": "PHWBtkInVowO"
      },
      "source": [
        "### 4.1. Debates Dataset"
      ]
    },
    {
      "cell_type": "code",
      "execution_count": 26,
      "metadata": {
        "colab": {
          "base_uri": "https://localhost:8080/"
        },
        "id": "5ilBe8wqTQyC",
        "outputId": "78ba8b7b-1aff-45ad-f76e-d495eea20bce"
      },
      "outputs": [
        {
          "name": "stderr",
          "output_type": "stream",
          "text": [
            "Debates Sentiment: 100%|██████████| 198/198 [01:27<00:00,  2.27it/s]"
          ]
        },
        {
          "name": "stdout",
          "output_type": "stream",
          "text": [
            "\n",
            "[INFO] Debates sentiment classification complete: (6316, 4)\n",
            "                            utterance_id  \\\n",
            "0  1960_1_Presidential_Nixon_Kennedy_001   \n",
            "1  1960_1_Presidential_Nixon_Kennedy_002   \n",
            "2  1960_1_Presidential_Nixon_Kennedy_004   \n",
            "3  1960_1_Presidential_Nixon_Kennedy_005   \n",
            "4  1960_1_Presidential_Nixon_Kennedy_006   \n",
            "\n",
            "                                                text sentiment_label  \\\n",
            "0  good evening. the television and radio station...        positive   \n",
            "1  mr. smith, mr. nixon. in the election of 1860,...         neutral   \n",
            "2  mr. smith, senator kennedy. the things that se...         neutral   \n",
            "3  thank you, mr. nixon. that completes the openi...        positive   \n",
            "4  senator, the vice president in his campaign ha...        negative   \n",
            "\n",
            "   sentiment_score  \n",
            "0         0.734504  \n",
            "1         0.837423  \n",
            "2         0.669891  \n",
            "3         0.554536  \n",
            "4         0.610444  \n"
          ]
        },
        {
          "name": "stderr",
          "output_type": "stream",
          "text": [
            "\n"
          ]
        }
      ],
      "source": [
        "# === CLASSIFY FULL DEBATES (SENTIMENT) ===\n",
        "\n",
        "debate_texts = df_debates[\"text\"].dropna().tolist()\n",
        "\n",
        "debate_sent_batches = []\n",
        "BATCH_SIZE = 32\n",
        "for i in tqdm.tqdm(range(0, len(debate_texts), BATCH_SIZE), desc=\"Debates Sentiment\"):\n",
        "    batch = debate_texts[i:i+BATCH_SIZE]\n",
        "    batch_df = classify_sentiment(batch)\n",
        "    debate_sent_batches.append(batch_df)\n",
        "\n",
        "debate_sent_full = pd.concat(debate_sent_batches, axis=0).reset_index(drop=True)\n",
        "\n",
        "# slim dataframe\n",
        "df_debates_sentiment = pd.DataFrame({\n",
        "    \"utterance_id\": df_debates[\"utterance_id\"],\n",
        "    \"text\": df_debates[\"text\"],\n",
        "    \"sentiment_label\": debate_sent_full[\"sentiment_label\"],\n",
        "    \"sentiment_score\": debate_sent_full[\"sentiment_score\"]\n",
        "})\n",
        "\n",
        "print(\"\\n[INFO] Debates sentiment classification complete:\", df_debates_sentiment.shape)\n",
        "print(df_debates_sentiment.head())"
      ]
    },
    {
      "cell_type": "code",
      "execution_count": 27,
      "metadata": {
        "colab": {
          "base_uri": "https://localhost:8080/"
        },
        "id": "21DmoG45Vsv7",
        "outputId": "3795a7b8-4c42-4e9d-c11f-83717ae8e15b"
      },
      "outputs": [
        {
          "name": "stderr",
          "output_type": "stream",
          "text": [
            "Debates Emotions:   0%|          | 0/198 [00:00<?, ?it/s]\n",
            "Classifying Emotions:   0%|          | 0/1 [00:00<?, ?it/s]\u001b[A/usr/local/lib/python3.12/dist-packages/transformers/pipelines/text_classification.py:111: UserWarning: `return_all_scores` is now deprecated,  if want a similar functionality use `top_k=None` instead of `return_all_scores=True` or `top_k=1` instead of `return_all_scores=False`.\n",
            "  warnings.warn(\n",
            "\n",
            "Classifying Emotions: 100%|██████████| 1/1 [00:00<00:00,  3.28it/s]\n",
            "Debates Emotions:   1%|          | 1/198 [00:00<01:01,  3.22it/s]\n",
            "Classifying Emotions:   0%|          | 0/1 [00:00<?, ?it/s]\u001b[A\n",
            "Classifying Emotions: 100%|██████████| 1/1 [00:00<00:00,  3.13it/s]\n",
            "Debates Emotions:   1%|          | 2/198 [00:00<01:02,  3.13it/s]\n",
            "Classifying Emotions:   0%|          | 0/1 [00:00<?, ?it/s]\u001b[A\n",
            "Classifying Emotions: 100%|██████████| 1/1 [00:00<00:00,  3.02it/s]\n",
            "Debates Emotions:   2%|▏         | 3/198 [00:00<01:03,  3.05it/s]\n",
            "Classifying Emotions:   0%|          | 0/1 [00:00<?, ?it/s]\u001b[A\n",
            "Classifying Emotions: 100%|██████████| 1/1 [00:00<00:00,  3.03it/s]\n",
            "Debates Emotions:   2%|▏         | 4/198 [00:01<01:04,  3.02it/s]\n",
            "Classifying Emotions:   0%|          | 0/1 [00:00<?, ?it/s]\u001b[A\n",
            "Classifying Emotions: 100%|██████████| 1/1 [00:00<00:00,  2.82it/s]\n",
            "Debates Emotions:   3%|▎         | 5/198 [00:01<01:05,  2.93it/s]\n",
            "Classifying Emotions:   0%|          | 0/1 [00:00<?, ?it/s]\u001b[A\n",
            "Classifying Emotions: 100%|██████████| 1/1 [00:00<00:00,  3.52it/s]\n",
            "Debates Emotions:   3%|▎         | 6/198 [00:01<01:02,  3.08it/s]\n",
            "Classifying Emotions:   0%|          | 0/1 [00:00<?, ?it/s]\u001b[A\n",
            "Classifying Emotions: 100%|██████████| 1/1 [00:00<00:00,  3.53it/s]\n",
            "Debates Emotions:   4%|▎         | 7/198 [00:02<00:59,  3.19it/s]\n",
            "Classifying Emotions:   0%|          | 0/1 [00:00<?, ?it/s]\u001b[A\n",
            "Classifying Emotions: 100%|██████████| 1/1 [00:00<00:00,  3.20it/s]\n",
            "Debates Emotions:   4%|▍         | 8/198 [00:02<00:59,  3.17it/s]\n",
            "Classifying Emotions:   0%|          | 0/1 [00:00<?, ?it/s]\u001b[A\n",
            "Classifying Emotions: 100%|██████████| 1/1 [00:00<00:00,  3.70it/s]\n",
            "Debates Emotions:   5%|▍         | 9/198 [00:02<00:57,  3.29it/s]\n",
            "Classifying Emotions:   0%|          | 0/1 [00:00<?, ?it/s]\u001b[A\n",
            "Classifying Emotions: 100%|██████████| 1/1 [00:00<00:00,  2.80it/s]\n",
            "Debates Emotions:   5%|▌         | 10/198 [00:03<01:00,  3.10it/s]\n",
            "Classifying Emotions:   0%|          | 0/1 [00:00<?, ?it/s]\u001b[A\n",
            "Classifying Emotions: 100%|██████████| 1/1 [00:00<00:00,  3.28it/s]\n",
            "Debates Emotions:   6%|▌         | 11/198 [00:03<00:59,  3.14it/s]\n",
            "Classifying Emotions:   0%|          | 0/1 [00:00<?, ?it/s]\u001b[A\n",
            "Classifying Emotions: 100%|██████████| 1/1 [00:00<00:00,  3.60it/s]\n",
            "Debates Emotions:   6%|▌         | 12/198 [00:03<00:57,  3.24it/s]\n",
            "Classifying Emotions:   0%|          | 0/1 [00:00<?, ?it/s]\u001b[A\n",
            "Classifying Emotions: 100%|██████████| 1/1 [00:00<00:00,  3.23it/s]\n",
            "Debates Emotions:   7%|▋         | 13/198 [00:04<00:57,  3.22it/s]\n",
            "Classifying Emotions:   0%|          | 0/1 [00:00<?, ?it/s]\u001b[A\n",
            "Classifying Emotions: 100%|██████████| 1/1 [00:00<00:00,  3.20it/s]\n",
            "Debates Emotions:   7%|▋         | 14/198 [00:04<00:57,  3.20it/s]\n",
            "Classifying Emotions:   0%|          | 0/1 [00:00<?, ?it/s]\u001b[A\n",
            "Classifying Emotions: 100%|██████████| 1/1 [00:00<00:00,  4.04it/s]\n",
            "Debates Emotions:   8%|▊         | 15/198 [00:04<00:53,  3.39it/s]\n",
            "Classifying Emotions:   0%|          | 0/1 [00:00<?, ?it/s]\u001b[A\n",
            "Classifying Emotions: 100%|██████████| 1/1 [00:00<00:00,  3.97it/s]\n",
            "Debates Emotions:   8%|▊         | 16/198 [00:04<00:51,  3.53it/s]\n",
            "Classifying Emotions:   0%|          | 0/1 [00:00<?, ?it/s]\u001b[A\n",
            "Classifying Emotions: 100%|██████████| 1/1 [00:00<00:00,  3.72it/s]\n",
            "Debates Emotions:   9%|▊         | 17/198 [00:05<00:50,  3.57it/s]\n",
            "Classifying Emotions:   0%|          | 0/1 [00:00<?, ?it/s]\u001b[A\n",
            "Classifying Emotions: 100%|██████████| 1/1 [00:00<00:00,  3.89it/s]\n",
            "Debates Emotions:   9%|▉         | 18/198 [00:05<00:49,  3.63it/s]\n",
            "Classifying Emotions:   0%|          | 0/1 [00:00<?, ?it/s]\u001b[A\n",
            "Classifying Emotions: 100%|██████████| 1/1 [00:00<00:00,  4.13it/s]\n",
            "Debates Emotions:  10%|▉         | 19/198 [00:05<00:47,  3.74it/s]\n",
            "Classifying Emotions:   0%|          | 0/1 [00:00<?, ?it/s]\u001b[A\n",
            "Classifying Emotions: 100%|██████████| 1/1 [00:00<00:00,  4.35it/s]\n",
            "Debates Emotions:  10%|█         | 20/198 [00:05<00:45,  3.87it/s]\n",
            "Classifying Emotions:   0%|          | 0/1 [00:00<?, ?it/s]\u001b[A\n",
            "Classifying Emotions: 100%|██████████| 1/1 [00:00<00:00,  4.41it/s]\n",
            "Debates Emotions:  11%|█         | 21/198 [00:06<00:44,  3.99it/s]\n",
            "Classifying Emotions:   0%|          | 0/1 [00:00<?, ?it/s]\u001b[A\n",
            "Classifying Emotions: 100%|██████████| 1/1 [00:00<00:00,  3.85it/s]\n",
            "Debates Emotions:  11%|█         | 22/198 [00:06<00:44,  3.92it/s]\n",
            "Classifying Emotions:   0%|          | 0/1 [00:00<?, ?it/s]\u001b[A\n",
            "Classifying Emotions: 100%|██████████| 1/1 [00:00<00:00,  4.03it/s]\n",
            "Debates Emotions:  12%|█▏        | 23/198 [00:06<00:44,  3.92it/s]\n",
            "Classifying Emotions:   0%|          | 0/1 [00:00<?, ?it/s]\u001b[A\n",
            "Classifying Emotions: 100%|██████████| 1/1 [00:00<00:00,  4.26it/s]\n",
            "Debates Emotions:  12%|█▏        | 24/198 [00:06<00:43,  3.99it/s]\n",
            "Classifying Emotions:   0%|          | 0/1 [00:00<?, ?it/s]\u001b[A\n",
            "Classifying Emotions: 100%|██████████| 1/1 [00:00<00:00,  3.91it/s]\n",
            "Debates Emotions:  13%|█▎        | 25/198 [00:07<00:43,  3.93it/s]\n",
            "Classifying Emotions:   0%|          | 0/1 [00:00<?, ?it/s]\u001b[A\n",
            "Classifying Emotions: 100%|██████████| 1/1 [00:00<00:00,  4.28it/s]\n",
            "Debates Emotions:  13%|█▎        | 26/198 [00:07<00:42,  4.00it/s]\n",
            "Classifying Emotions:   0%|          | 0/1 [00:00<?, ?it/s]\u001b[A\n",
            "Classifying Emotions: 100%|██████████| 1/1 [00:00<00:00,  3.80it/s]\n",
            "Debates Emotions:  14%|█▎        | 27/198 [00:07<00:43,  3.91it/s]\n",
            "Classifying Emotions:   0%|          | 0/1 [00:00<?, ?it/s]\u001b[A\n",
            "Classifying Emotions: 100%|██████████| 1/1 [00:00<00:00,  3.94it/s]\n",
            "Debates Emotions:  14%|█▍        | 28/198 [00:07<00:43,  3.90it/s]\n",
            "Classifying Emotions:   0%|          | 0/1 [00:00<?, ?it/s]\u001b[A\n",
            "Classifying Emotions: 100%|██████████| 1/1 [00:00<00:00,  4.59it/s]\n",
            "Debates Emotions:  15%|█▍        | 29/198 [00:08<00:41,  4.05it/s]\n",
            "Classifying Emotions:   0%|          | 0/1 [00:00<?, ?it/s]\u001b[A\n",
            "Classifying Emotions: 100%|██████████| 1/1 [00:00<00:00,  3.62it/s]\n",
            "Debates Emotions:  15%|█▌        | 30/198 [00:08<00:43,  3.89it/s]\n",
            "Classifying Emotions:   0%|          | 0/1 [00:00<?, ?it/s]\u001b[A\n",
            "Classifying Emotions: 100%|██████████| 1/1 [00:00<00:00,  4.43it/s]\n",
            "Debates Emotions:  16%|█▌        | 31/198 [00:08<00:41,  4.01it/s]\n",
            "Classifying Emotions:   0%|          | 0/1 [00:00<?, ?it/s]\u001b[A\n",
            "Classifying Emotions: 100%|██████████| 1/1 [00:00<00:00,  3.87it/s]\n",
            "Debates Emotions:  16%|█▌        | 32/198 [00:08<00:42,  3.94it/s]\n",
            "Classifying Emotions:   0%|          | 0/1 [00:00<?, ?it/s]\u001b[A\n",
            "Classifying Emotions: 100%|██████████| 1/1 [00:00<00:00,  3.34it/s]\n",
            "Debates Emotions:  17%|█▋        | 33/198 [00:09<00:44,  3.71it/s]\n",
            "Classifying Emotions:   0%|          | 0/1 [00:00<?, ?it/s]\u001b[A\n",
            "Classifying Emotions: 100%|██████████| 1/1 [00:00<00:00,  3.96it/s]\n",
            "Debates Emotions:  17%|█▋        | 34/198 [00:09<00:43,  3.75it/s]\n",
            "Classifying Emotions:   0%|          | 0/1 [00:00<?, ?it/s]\u001b[A\n",
            "Classifying Emotions: 100%|██████████| 1/1 [00:00<00:00,  3.43it/s]\n",
            "Debates Emotions:  18%|█▊        | 35/198 [00:09<00:44,  3.63it/s]\n",
            "Classifying Emotions:   0%|          | 0/1 [00:00<?, ?it/s]\u001b[A\n",
            "Classifying Emotions: 100%|██████████| 1/1 [00:00<00:00,  3.28it/s]\n",
            "Debates Emotions:  18%|█▊        | 36/198 [00:10<00:46,  3.49it/s]\n",
            "Classifying Emotions:   0%|          | 0/1 [00:00<?, ?it/s]\u001b[A\n",
            "Classifying Emotions: 100%|██████████| 1/1 [00:00<00:00,  3.32it/s]\n",
            "Debates Emotions:  19%|█▊        | 37/198 [00:10<00:47,  3.42it/s]\n",
            "Classifying Emotions:   0%|          | 0/1 [00:00<?, ?it/s]\u001b[A\n",
            "Classifying Emotions: 100%|██████████| 1/1 [00:00<00:00,  3.14it/s]\n",
            "Debates Emotions:  19%|█▉        | 38/198 [00:10<00:48,  3.31it/s]\n",
            "Classifying Emotions:   0%|          | 0/1 [00:00<?, ?it/s]\u001b[A\n",
            "Classifying Emotions: 100%|██████████| 1/1 [00:00<00:00,  4.31it/s]\n",
            "Debates Emotions:  20%|█▉        | 39/198 [00:11<00:45,  3.53it/s]\n",
            "Classifying Emotions:   0%|          | 0/1 [00:00<?, ?it/s]\u001b[A\n",
            "Classifying Emotions: 100%|██████████| 1/1 [00:00<00:00,  4.87it/s]\n",
            "Debates Emotions:  20%|██        | 40/198 [00:11<00:41,  3.82it/s]\n",
            "Classifying Emotions:   0%|          | 0/1 [00:00<?, ?it/s]\u001b[A\n",
            "Classifying Emotions: 100%|██████████| 1/1 [00:00<00:00,  4.21it/s]\n",
            "Debates Emotions:  21%|██        | 41/198 [00:11<00:40,  3.91it/s]\n",
            "Classifying Emotions:   0%|          | 0/1 [00:00<?, ?it/s]\u001b[A\n",
            "Classifying Emotions: 100%|██████████| 1/1 [00:00<00:00,  4.15it/s]\n",
            "Debates Emotions:  21%|██        | 42/198 [00:11<00:39,  3.95it/s]\n",
            "Classifying Emotions:   0%|          | 0/1 [00:00<?, ?it/s]\u001b[A\n",
            "Classifying Emotions: 100%|██████████| 1/1 [00:00<00:00,  4.06it/s]\n",
            "Debates Emotions:  22%|██▏       | 43/198 [00:11<00:39,  3.96it/s]\n",
            "Classifying Emotions:   0%|          | 0/1 [00:00<?, ?it/s]\u001b[A\n",
            "Classifying Emotions: 100%|██████████| 1/1 [00:00<00:00,  4.35it/s]\n",
            "Debates Emotions:  22%|██▏       | 44/198 [00:12<00:38,  4.04it/s]\n",
            "Classifying Emotions:   0%|          | 0/1 [00:00<?, ?it/s]\u001b[A\n",
            "Classifying Emotions: 100%|██████████| 1/1 [00:00<00:00,  4.43it/s]\n",
            "Debates Emotions:  23%|██▎       | 45/198 [00:12<00:37,  4.13it/s]\n",
            "Classifying Emotions:   0%|          | 0/1 [00:00<?, ?it/s]\u001b[A\n",
            "Classifying Emotions: 100%|██████████| 1/1 [00:00<00:00,  4.14it/s]\n",
            "Debates Emotions:  23%|██▎       | 46/198 [00:12<00:37,  4.10it/s]\n",
            "Classifying Emotions:   0%|          | 0/1 [00:00<?, ?it/s]\u001b[A\n",
            "Classifying Emotions: 100%|██████████| 1/1 [00:00<00:00,  3.88it/s]\n",
            "Debates Emotions:  24%|██▎       | 47/198 [00:12<00:37,  4.01it/s]\n",
            "Classifying Emotions:   0%|          | 0/1 [00:00<?, ?it/s]\u001b[A\n",
            "Classifying Emotions: 100%|██████████| 1/1 [00:00<00:00,  3.73it/s]\n",
            "Debates Emotions:  24%|██▍       | 48/198 [00:13<00:38,  3.90it/s]\n",
            "Classifying Emotions:   0%|          | 0/1 [00:00<?, ?it/s]\u001b[A\n",
            "Classifying Emotions: 100%|██████████| 1/1 [00:00<00:00,  5.55it/s]\n",
            "Debates Emotions:  25%|██▍       | 49/198 [00:13<00:35,  4.25it/s]\n",
            "Classifying Emotions:   0%|          | 0/1 [00:00<?, ?it/s]\u001b[A\n",
            "Classifying Emotions: 100%|██████████| 1/1 [00:00<00:00,  4.67it/s]\n",
            "Debates Emotions:  25%|██▌       | 50/198 [00:13<00:34,  4.33it/s]\n",
            "Classifying Emotions:   0%|          | 0/1 [00:00<?, ?it/s]\u001b[A\n",
            "Classifying Emotions: 100%|██████████| 1/1 [00:00<00:00,  4.50it/s]\n",
            "Debates Emotions:  26%|██▌       | 51/198 [00:13<00:33,  4.35it/s]\n",
            "Classifying Emotions:   0%|          | 0/1 [00:00<?, ?it/s]\u001b[A\n",
            "Classifying Emotions: 100%|██████████| 1/1 [00:00<00:00,  4.65it/s]\n",
            "Debates Emotions:  26%|██▋       | 52/198 [00:14<00:33,  4.40it/s]\n",
            "Classifying Emotions:   0%|          | 0/1 [00:00<?, ?it/s]\u001b[A\n",
            "Classifying Emotions: 100%|██████████| 1/1 [00:00<00:00,  3.99it/s]\n",
            "Debates Emotions:  27%|██▋       | 53/198 [00:14<00:34,  4.22it/s]\n",
            "Classifying Emotions:   0%|          | 0/1 [00:00<?, ?it/s]\u001b[A\n",
            "Classifying Emotions: 100%|██████████| 1/1 [00:00<00:00,  3.64it/s]\n",
            "Debates Emotions:  27%|██▋       | 54/198 [00:14<00:36,  3.98it/s]\n",
            "Classifying Emotions:   0%|          | 0/1 [00:00<?, ?it/s]\u001b[A\n",
            "Classifying Emotions: 100%|██████████| 1/1 [00:00<00:00,  3.83it/s]\n",
            "Debates Emotions:  28%|██▊       | 55/198 [00:14<00:36,  3.90it/s]\n",
            "Classifying Emotions:   0%|          | 0/1 [00:00<?, ?it/s]\u001b[A\n",
            "Classifying Emotions: 100%|██████████| 1/1 [00:00<00:00,  3.79it/s]\n",
            "Debates Emotions:  28%|██▊       | 56/198 [00:15<00:36,  3.84it/s]\n",
            "Classifying Emotions:   0%|          | 0/1 [00:00<?, ?it/s]\u001b[A\n",
            "Classifying Emotions: 100%|██████████| 1/1 [00:00<00:00,  4.17it/s]\n",
            "Debates Emotions:  29%|██▉       | 57/198 [00:15<00:36,  3.90it/s]\n",
            "Classifying Emotions:   0%|          | 0/1 [00:00<?, ?it/s]\u001b[A\n",
            "Classifying Emotions: 100%|██████████| 1/1 [00:00<00:00,  4.44it/s]\n",
            "Debates Emotions:  29%|██▉       | 58/198 [00:15<00:34,  4.01it/s]\n",
            "Classifying Emotions:   0%|          | 0/1 [00:00<?, ?it/s]\u001b[A\n",
            "Classifying Emotions: 100%|██████████| 1/1 [00:00<00:00,  4.30it/s]\n",
            "Debates Emotions:  30%|██▉       | 59/198 [00:15<00:34,  4.07it/s]\n",
            "Classifying Emotions:   0%|          | 0/1 [00:00<?, ?it/s]\u001b[A\n",
            "Classifying Emotions: 100%|██████████| 1/1 [00:00<00:00,  3.75it/s]\n",
            "Debates Emotions:  30%|███       | 60/198 [00:16<00:35,  3.94it/s]\n",
            "Classifying Emotions:   0%|          | 0/1 [00:00<?, ?it/s]\u001b[A\n",
            "Classifying Emotions: 100%|██████████| 1/1 [00:00<00:00,  4.04it/s]\n",
            "Debates Emotions:  31%|███       | 61/198 [00:16<00:34,  3.95it/s]\n",
            "Classifying Emotions:   0%|          | 0/1 [00:00<?, ?it/s]\u001b[A\n",
            "Classifying Emotions: 100%|██████████| 1/1 [00:00<00:00,  4.26it/s]\n",
            "Debates Emotions:  31%|███▏      | 62/198 [00:16<00:33,  4.00it/s]\n",
            "Classifying Emotions:   0%|          | 0/1 [00:00<?, ?it/s]\u001b[A\n",
            "Classifying Emotions: 100%|██████████| 1/1 [00:00<00:00,  3.93it/s]\n",
            "Debates Emotions:  32%|███▏      | 63/198 [00:16<00:34,  3.94it/s]\n",
            "Classifying Emotions:   0%|          | 0/1 [00:00<?, ?it/s]\u001b[A\n",
            "Classifying Emotions: 100%|██████████| 1/1 [00:00<00:00,  4.23it/s]\n",
            "Debates Emotions:  32%|███▏      | 64/198 [00:17<00:33,  3.99it/s]\n",
            "Classifying Emotions:   0%|          | 0/1 [00:00<?, ?it/s]\u001b[A\n",
            "Classifying Emotions: 100%|██████████| 1/1 [00:00<00:00,  4.75it/s]\n",
            "Debates Emotions:  33%|███▎      | 65/198 [00:17<00:32,  4.15it/s]\n",
            "Classifying Emotions:   0%|          | 0/1 [00:00<?, ?it/s]\u001b[A\n",
            "Classifying Emotions: 100%|██████████| 1/1 [00:00<00:00,  4.25it/s]\n",
            "Debates Emotions:  33%|███▎      | 66/198 [00:17<00:31,  4.14it/s]\n",
            "Classifying Emotions:   0%|          | 0/1 [00:00<?, ?it/s]\u001b[A\n",
            "Classifying Emotions: 100%|██████████| 1/1 [00:00<00:00,  4.29it/s]\n",
            "Debates Emotions:  34%|███▍      | 67/198 [00:17<00:31,  4.14it/s]\n",
            "Classifying Emotions:   0%|          | 0/1 [00:00<?, ?it/s]\u001b[A\n",
            "Classifying Emotions: 100%|██████████| 1/1 [00:00<00:00,  3.27it/s]\n",
            "Debates Emotions:  34%|███▍      | 68/198 [00:18<00:34,  3.81it/s]\n",
            "Classifying Emotions:   0%|          | 0/1 [00:00<?, ?it/s]\u001b[A\n",
            "Classifying Emotions: 100%|██████████| 1/1 [00:00<00:00,  3.77it/s]\n",
            "Debates Emotions:  35%|███▍      | 69/198 [00:18<00:34,  3.77it/s]\n",
            "Classifying Emotions:   0%|          | 0/1 [00:00<?, ?it/s]\u001b[A\n",
            "Classifying Emotions: 100%|██████████| 1/1 [00:00<00:00,  4.09it/s]\n",
            "Debates Emotions:  35%|███▌      | 70/198 [00:18<00:33,  3.83it/s]\n",
            "Classifying Emotions:   0%|          | 0/1 [00:00<?, ?it/s]\u001b[A\n",
            "Classifying Emotions: 100%|██████████| 1/1 [00:00<00:00,  4.42it/s]\n",
            "Debates Emotions:  36%|███▌      | 71/198 [00:18<00:32,  3.97it/s]\n",
            "Classifying Emotions:   0%|          | 0/1 [00:00<?, ?it/s]\u001b[A\n",
            "Classifying Emotions: 100%|██████████| 1/1 [00:00<00:00,  4.65it/s]\n",
            "Debates Emotions:  36%|███▋      | 72/198 [00:19<00:30,  4.13it/s]\n",
            "Classifying Emotions:   0%|          | 0/1 [00:00<?, ?it/s]\u001b[A\n",
            "Classifying Emotions: 100%|██████████| 1/1 [00:00<00:00,  4.42it/s]\n",
            "Debates Emotions:  37%|███▋      | 73/198 [00:19<00:29,  4.17it/s]\n",
            "Classifying Emotions:   0%|          | 0/1 [00:00<?, ?it/s]\u001b[A\n",
            "Classifying Emotions: 100%|██████████| 1/1 [00:00<00:00,  5.14it/s]\n",
            "Debates Emotions:  37%|███▋      | 74/198 [00:19<00:28,  4.38it/s]\n",
            "Classifying Emotions:   0%|          | 0/1 [00:00<?, ?it/s]\u001b[A\n",
            "Classifying Emotions: 100%|██████████| 1/1 [00:00<00:00,  3.86it/s]\n",
            "Debates Emotions:  38%|███▊      | 75/198 [00:19<00:29,  4.18it/s]\n",
            "Classifying Emotions:   0%|          | 0/1 [00:00<?, ?it/s]\u001b[A\n",
            "Classifying Emotions: 100%|██████████| 1/1 [00:00<00:00,  4.81it/s]\n",
            "Debates Emotions:  38%|███▊      | 76/198 [00:20<00:28,  4.32it/s]\n",
            "Classifying Emotions:   0%|          | 0/1 [00:00<?, ?it/s]\u001b[A\n",
            "Classifying Emotions: 100%|██████████| 1/1 [00:00<00:00,  3.92it/s]\n",
            "Debates Emotions:  39%|███▉      | 77/198 [00:20<00:29,  4.15it/s]\n",
            "Classifying Emotions:   0%|          | 0/1 [00:00<?, ?it/s]\u001b[A\n",
            "Classifying Emotions: 100%|██████████| 1/1 [00:00<00:00,  3.49it/s]\n",
            "Debates Emotions:  39%|███▉      | 78/198 [00:20<00:30,  3.91it/s]\n",
            "Classifying Emotions:   0%|          | 0/1 [00:00<?, ?it/s]\u001b[A\n",
            "Classifying Emotions: 100%|██████████| 1/1 [00:00<00:00,  3.81it/s]\n",
            "Debates Emotions:  40%|███▉      | 79/198 [00:20<00:30,  3.85it/s]\n",
            "Classifying Emotions:   0%|          | 0/1 [00:00<?, ?it/s]\u001b[A\n",
            "Classifying Emotions: 100%|██████████| 1/1 [00:00<00:00,  4.04it/s]\n",
            "Debates Emotions:  40%|████      | 80/198 [00:21<00:30,  3.87it/s]\n",
            "Classifying Emotions:   0%|          | 0/1 [00:00<?, ?it/s]\u001b[A\n",
            "Classifying Emotions: 100%|██████████| 1/1 [00:00<00:00,  3.50it/s]\n",
            "Debates Emotions:  41%|████      | 81/198 [00:21<00:31,  3.72it/s]\n",
            "Classifying Emotions:   0%|          | 0/1 [00:00<?, ?it/s]\u001b[A\n",
            "Classifying Emotions: 100%|██████████| 1/1 [00:00<00:00,  4.30it/s]\n",
            "Debates Emotions:  41%|████▏     | 82/198 [00:21<00:30,  3.85it/s]\n",
            "Classifying Emotions:   0%|          | 0/1 [00:00<?, ?it/s]\u001b[A\n",
            "Classifying Emotions: 100%|██████████| 1/1 [00:00<00:00,  3.64it/s]\n",
            "Debates Emotions:  42%|████▏     | 83/198 [00:21<00:30,  3.76it/s]\n",
            "Classifying Emotions:   0%|          | 0/1 [00:00<?, ?it/s]\u001b[A\n",
            "Classifying Emotions: 100%|██████████| 1/1 [00:00<00:00,  3.52it/s]\n",
            "Debates Emotions:  42%|████▏     | 84/198 [00:22<00:31,  3.67it/s]\n",
            "Classifying Emotions:   0%|          | 0/1 [00:00<?, ?it/s]\u001b[A\n",
            "Classifying Emotions: 100%|██████████| 1/1 [00:00<00:00,  3.34it/s]\n",
            "Debates Emotions:  43%|████▎     | 85/198 [00:22<00:31,  3.54it/s]\n",
            "Classifying Emotions:   0%|          | 0/1 [00:00<?, ?it/s]\u001b[A\n",
            "Classifying Emotions: 100%|██████████| 1/1 [00:00<00:00,  3.60it/s]\n",
            "Debates Emotions:  43%|████▎     | 86/198 [00:22<00:31,  3.54it/s]\n",
            "Classifying Emotions:   0%|          | 0/1 [00:00<?, ?it/s]\u001b[A\n",
            "Classifying Emotions: 100%|██████████| 1/1 [00:00<00:00,  3.70it/s]\n",
            "Debates Emotions:  44%|████▍     | 87/198 [00:23<00:31,  3.57it/s]\n",
            "Classifying Emotions:   0%|          | 0/1 [00:00<?, ?it/s]\u001b[A\n",
            "Classifying Emotions: 100%|██████████| 1/1 [00:00<00:00,  3.16it/s]\n",
            "Debates Emotions:  44%|████▍     | 88/198 [00:23<00:32,  3.42it/s]\n",
            "Classifying Emotions:   0%|          | 0/1 [00:00<?, ?it/s]\u001b[A\n",
            "Classifying Emotions: 100%|██████████| 1/1 [00:00<00:00,  3.06it/s]\n",
            "Debates Emotions:  45%|████▍     | 89/198 [00:23<00:33,  3.28it/s]\n",
            "Classifying Emotions:   0%|          | 0/1 [00:00<?, ?it/s]\u001b[A\n",
            "Classifying Emotions: 100%|██████████| 1/1 [00:00<00:00,  3.06it/s]\n",
            "Debates Emotions:  45%|████▌     | 90/198 [00:24<00:33,  3.19it/s]\n",
            "Classifying Emotions:   0%|          | 0/1 [00:00<?, ?it/s]\u001b[A\n",
            "Classifying Emotions: 100%|██████████| 1/1 [00:00<00:00,  4.07it/s]\n",
            "Debates Emotions:  46%|████▌     | 91/198 [00:24<00:31,  3.39it/s]\n",
            "Classifying Emotions:   0%|          | 0/1 [00:00<?, ?it/s]\u001b[A\n",
            "Classifying Emotions: 100%|██████████| 1/1 [00:00<00:00,  3.88it/s]\n",
            "Debates Emotions:  46%|████▋     | 92/198 [00:24<00:30,  3.51it/s]\n",
            "Classifying Emotions:   0%|          | 0/1 [00:00<?, ?it/s]\u001b[A\n",
            "Classifying Emotions: 100%|██████████| 1/1 [00:00<00:00,  3.42it/s]\n",
            "Debates Emotions:  47%|████▋     | 93/198 [00:24<00:30,  3.46it/s]\n",
            "Classifying Emotions:   0%|          | 0/1 [00:00<?, ?it/s]\u001b[A\n",
            "Classifying Emotions: 100%|██████████| 1/1 [00:00<00:00,  3.40it/s]\n",
            "Debates Emotions:  47%|████▋     | 94/198 [00:25<00:30,  3.43it/s]\n",
            "Classifying Emotions:   0%|          | 0/1 [00:00<?, ?it/s]\u001b[A\n",
            "Classifying Emotions: 100%|██████████| 1/1 [00:00<00:00,  3.35it/s]\n",
            "Debates Emotions:  48%|████▊     | 95/198 [00:25<00:30,  3.39it/s]\n",
            "Classifying Emotions:   0%|          | 0/1 [00:00<?, ?it/s]\u001b[A\n",
            "Classifying Emotions: 100%|██████████| 1/1 [00:00<00:00,  3.38it/s]\n",
            "Debates Emotions:  48%|████▊     | 96/198 [00:25<00:30,  3.37it/s]\n",
            "Classifying Emotions:   0%|          | 0/1 [00:00<?, ?it/s]\u001b[A\n",
            "Classifying Emotions: 100%|██████████| 1/1 [00:00<00:00,  3.82it/s]\n",
            "Debates Emotions:  49%|████▉     | 97/198 [00:26<00:29,  3.47it/s]\n",
            "Classifying Emotions:   0%|          | 0/1 [00:00<?, ?it/s]\u001b[A\n",
            "Classifying Emotions: 100%|██████████| 1/1 [00:00<00:00,  3.55it/s]\n",
            "Debates Emotions:  49%|████▉     | 98/198 [00:26<00:28,  3.47it/s]\n",
            "Classifying Emotions:   0%|          | 0/1 [00:00<?, ?it/s]\u001b[A\n",
            "Classifying Emotions: 100%|██████████| 1/1 [00:00<00:00,  3.91it/s]\n",
            "Debates Emotions:  50%|█████     | 99/198 [00:26<00:27,  3.57it/s]\n",
            "Classifying Emotions:   0%|          | 0/1 [00:00<?, ?it/s]\u001b[A\n",
            "Classifying Emotions: 100%|██████████| 1/1 [00:00<00:00,  4.19it/s]\n",
            "Debates Emotions:  51%|█████     | 100/198 [00:26<00:26,  3.72it/s]\n",
            "Classifying Emotions:   0%|          | 0/1 [00:00<?, ?it/s]\u001b[A\n",
            "Classifying Emotions: 100%|██████████| 1/1 [00:00<00:00,  4.10it/s]\n",
            "Debates Emotions:  51%|█████     | 101/198 [00:27<00:25,  3.79it/s]\n",
            "Classifying Emotions:   0%|          | 0/1 [00:00<?, ?it/s]\u001b[A\n",
            "Classifying Emotions: 100%|██████████| 1/1 [00:00<00:00,  4.67it/s]\n",
            "Debates Emotions:  52%|█████▏    | 102/198 [00:27<00:24,  4.00it/s]\n",
            "Classifying Emotions:   0%|          | 0/1 [00:00<?, ?it/s]\u001b[A\n",
            "Classifying Emotions: 100%|██████████| 1/1 [00:00<00:00,  4.95it/s]\n",
            "Debates Emotions:  52%|█████▏    | 103/198 [00:27<00:22,  4.21it/s]\n",
            "Classifying Emotions:   0%|          | 0/1 [00:00<?, ?it/s]\u001b[A\n",
            "Classifying Emotions: 100%|██████████| 1/1 [00:00<00:00,  3.06it/s]\n",
            "Debates Emotions:  53%|█████▎    | 104/198 [00:27<00:25,  3.76it/s]\n",
            "Classifying Emotions:   0%|          | 0/1 [00:00<?, ?it/s]\u001b[A\n",
            "Classifying Emotions: 100%|██████████| 1/1 [00:00<00:00,  3.73it/s]\n",
            "Debates Emotions:  53%|█████▎    | 105/198 [00:28<00:24,  3.72it/s]\n",
            "Classifying Emotions:   0%|          | 0/1 [00:00<?, ?it/s]\u001b[A\n",
            "Classifying Emotions: 100%|██████████| 1/1 [00:00<00:00,  4.76it/s]\n",
            "Debates Emotions:  54%|█████▎    | 106/198 [00:28<00:23,  3.94it/s]\n",
            "Classifying Emotions:   0%|          | 0/1 [00:00<?, ?it/s]\u001b[A\n",
            "Classifying Emotions: 100%|██████████| 1/1 [00:00<00:00,  5.27it/s]\n",
            "Debates Emotions:  54%|█████▍    | 107/198 [00:28<00:21,  4.21it/s]\n",
            "Classifying Emotions:   0%|          | 0/1 [00:00<?, ?it/s]\u001b[A\n",
            "Classifying Emotions: 100%|██████████| 1/1 [00:00<00:00,  3.83it/s]\n",
            "Debates Emotions:  55%|█████▍    | 108/198 [00:28<00:22,  4.06it/s]\n",
            "Classifying Emotions:   0%|          | 0/1 [00:00<?, ?it/s]\u001b[A\n",
            "Classifying Emotions: 100%|██████████| 1/1 [00:00<00:00,  4.28it/s]\n",
            "Debates Emotions:  55%|█████▌    | 109/198 [00:29<00:21,  4.09it/s]\n",
            "Classifying Emotions:   0%|          | 0/1 [00:00<?, ?it/s]\u001b[A\n",
            "Classifying Emotions: 100%|██████████| 1/1 [00:00<00:00,  5.60it/s]\n",
            "Debates Emotions:  56%|█████▌    | 110/198 [00:29<00:19,  4.41it/s]\n",
            "Classifying Emotions:   0%|          | 0/1 [00:00<?, ?it/s]\u001b[A\n",
            "Classifying Emotions: 100%|██████████| 1/1 [00:00<00:00,  4.71it/s]\n",
            "Debates Emotions:  56%|█████▌    | 111/198 [00:29<00:19,  4.45it/s]\n",
            "Classifying Emotions:   0%|          | 0/1 [00:00<?, ?it/s]\u001b[A\n",
            "Classifying Emotions: 100%|██████████| 1/1 [00:00<00:00,  6.32it/s]\n",
            "Debates Emotions:  57%|█████▋    | 112/198 [00:29<00:17,  4.85it/s]\n",
            "Classifying Emotions:   0%|          | 0/1 [00:00<?, ?it/s]\u001b[A\n",
            "Classifying Emotions: 100%|██████████| 1/1 [00:00<00:00,  4.98it/s]\n",
            "Debates Emotions:  57%|█████▋    | 113/198 [00:29<00:17,  4.86it/s]\n",
            "Classifying Emotions:   0%|          | 0/1 [00:00<?, ?it/s]\u001b[A\n",
            "Classifying Emotions: 100%|██████████| 1/1 [00:00<00:00,  6.23it/s]\n",
            "Debates Emotions:  58%|█████▊    | 114/198 [00:30<00:16,  5.16it/s]\n",
            "Classifying Emotions:   0%|          | 0/1 [00:00<?, ?it/s]\u001b[A\n",
            "Classifying Emotions: 100%|██████████| 1/1 [00:00<00:00,  5.66it/s]\n",
            "Debates Emotions:  58%|█████▊    | 115/198 [00:30<00:15,  5.26it/s]\n",
            "Classifying Emotions:   0%|          | 0/1 [00:00<?, ?it/s]\u001b[A\n",
            "Classifying Emotions: 100%|██████████| 1/1 [00:00<00:00,  5.67it/s]\n",
            "Debates Emotions:  59%|█████▊    | 116/198 [00:30<00:15,  5.34it/s]\n",
            "Classifying Emotions:   0%|          | 0/1 [00:00<?, ?it/s]\u001b[A\n",
            "Classifying Emotions: 100%|██████████| 1/1 [00:00<00:00,  5.15it/s]\n",
            "Debates Emotions:  59%|█████▉    | 117/198 [00:30<00:15,  5.23it/s]\n",
            "Classifying Emotions:   0%|          | 0/1 [00:00<?, ?it/s]\u001b[A\n",
            "Classifying Emotions: 100%|██████████| 1/1 [00:00<00:00,  4.15it/s]\n",
            "Debates Emotions:  60%|█████▉    | 118/198 [00:30<00:16,  4.81it/s]\n",
            "Classifying Emotions:   0%|          | 0/1 [00:00<?, ?it/s]\u001b[A\n",
            "Classifying Emotions: 100%|██████████| 1/1 [00:00<00:00,  5.55it/s]\n",
            "Debates Emotions:  60%|██████    | 119/198 [00:31<00:15,  4.97it/s]\n",
            "Classifying Emotions:   0%|          | 0/1 [00:00<?, ?it/s]\u001b[A\n",
            "Classifying Emotions: 100%|██████████| 1/1 [00:00<00:00,  3.73it/s]\n",
            "Debates Emotions:  61%|██████    | 120/198 [00:31<00:17,  4.48it/s]\n",
            "Classifying Emotions:   0%|          | 0/1 [00:00<?, ?it/s]\u001b[A\n",
            "Classifying Emotions: 100%|██████████| 1/1 [00:00<00:00,  5.49it/s]\n",
            "Debates Emotions:  61%|██████    | 121/198 [00:31<00:16,  4.69it/s]\n",
            "Classifying Emotions:   0%|          | 0/1 [00:00<?, ?it/s]\u001b[A\n",
            "Classifying Emotions: 100%|██████████| 1/1 [00:00<00:00,  5.08it/s]\n",
            "Debates Emotions:  62%|██████▏   | 122/198 [00:31<00:15,  4.76it/s]\n",
            "Classifying Emotions:   0%|          | 0/1 [00:00<?, ?it/s]\u001b[A\n",
            "Classifying Emotions: 100%|██████████| 1/1 [00:00<00:00,  3.89it/s]\n",
            "Debates Emotions:  62%|██████▏   | 123/198 [00:31<00:16,  4.42it/s]\n",
            "Classifying Emotions:   0%|          | 0/1 [00:00<?, ?it/s]\u001b[A\n",
            "Classifying Emotions: 100%|██████████| 1/1 [00:00<00:00,  3.96it/s]\n",
            "Debates Emotions:  63%|██████▎   | 124/198 [00:32<00:17,  4.23it/s]\n",
            "Classifying Emotions:   0%|          | 0/1 [00:00<?, ?it/s]\u001b[A\n",
            "Classifying Emotions: 100%|██████████| 1/1 [00:00<00:00,  4.18it/s]\n",
            "Debates Emotions:  63%|██████▎   | 125/198 [00:32<00:17,  4.18it/s]\n",
            "Classifying Emotions:   0%|          | 0/1 [00:00<?, ?it/s]\u001b[A\n",
            "Classifying Emotions: 100%|██████████| 1/1 [00:00<00:00,  3.96it/s]\n",
            "Debates Emotions:  64%|██████▎   | 126/198 [00:32<00:17,  4.04it/s]\n",
            "Classifying Emotions:   0%|          | 0/1 [00:00<?, ?it/s]\u001b[A\n",
            "Classifying Emotions: 100%|██████████| 1/1 [00:00<00:00,  3.92it/s]\n",
            "Debates Emotions:  64%|██████▍   | 127/198 [00:32<00:17,  3.98it/s]\n",
            "Classifying Emotions:   0%|          | 0/1 [00:00<?, ?it/s]\u001b[A\n",
            "Classifying Emotions: 100%|██████████| 1/1 [00:00<00:00,  5.83it/s]\n",
            "Debates Emotions:  65%|██████▍   | 128/198 [00:33<00:16,  4.36it/s]\n",
            "Classifying Emotions:   0%|          | 0/1 [00:00<?, ?it/s]\u001b[A\n",
            "Classifying Emotions: 100%|██████████| 1/1 [00:00<00:00,  5.99it/s]\n",
            "Debates Emotions:  65%|██████▌   | 129/198 [00:33<00:14,  4.71it/s]\n",
            "Classifying Emotions:   0%|          | 0/1 [00:00<?, ?it/s]\u001b[A\n",
            "Classifying Emotions: 100%|██████████| 1/1 [00:00<00:00,  4.57it/s]\n",
            "Debates Emotions:  66%|██████▌   | 130/198 [00:33<00:14,  4.64it/s]\n",
            "Classifying Emotions:   0%|          | 0/1 [00:00<?, ?it/s]\u001b[A\n",
            "Classifying Emotions: 100%|██████████| 1/1 [00:00<00:00,  4.46it/s]\n",
            "Debates Emotions:  66%|██████▌   | 131/198 [00:33<00:14,  4.55it/s]\n",
            "Classifying Emotions:   0%|          | 0/1 [00:00<?, ?it/s]\u001b[A\n",
            "Classifying Emotions: 100%|██████████| 1/1 [00:00<00:00,  4.89it/s]\n",
            "Debates Emotions:  67%|██████▋   | 132/198 [00:33<00:14,  4.61it/s]\n",
            "Classifying Emotions:   0%|          | 0/1 [00:00<?, ?it/s]\u001b[A\n",
            "Classifying Emotions: 100%|██████████| 1/1 [00:00<00:00,  5.52it/s]\n",
            "Debates Emotions:  67%|██████▋   | 133/198 [00:34<00:13,  4.81it/s]\n",
            "Classifying Emotions:   0%|          | 0/1 [00:00<?, ?it/s]\u001b[A\n",
            "Classifying Emotions: 100%|██████████| 1/1 [00:00<00:00,  5.09it/s]\n",
            "Debates Emotions:  68%|██████▊   | 134/198 [00:34<00:13,  4.85it/s]\n",
            "Classifying Emotions:   0%|          | 0/1 [00:00<?, ?it/s]\u001b[A\n",
            "Classifying Emotions: 100%|██████████| 1/1 [00:00<00:00,  5.57it/s]\n",
            "Debates Emotions:  68%|██████▊   | 135/198 [00:34<00:12,  5.01it/s]\n",
            "Classifying Emotions:   0%|          | 0/1 [00:00<?, ?it/s]\u001b[A\n",
            "Classifying Emotions: 100%|██████████| 1/1 [00:00<00:00,  5.79it/s]\n",
            "Debates Emotions:  69%|██████▊   | 136/198 [00:34<00:12,  5.17it/s]\n",
            "Classifying Emotions:   0%|          | 0/1 [00:00<?, ?it/s]\u001b[A\n",
            "Classifying Emotions: 100%|██████████| 1/1 [00:00<00:00,  5.20it/s]\n",
            "Debates Emotions:  69%|██████▉   | 137/198 [00:34<00:11,  5.13it/s]\n",
            "Classifying Emotions:   0%|          | 0/1 [00:00<?, ?it/s]\u001b[A\n",
            "Classifying Emotions: 100%|██████████| 1/1 [00:00<00:00,  5.39it/s]\n",
            "Debates Emotions:  70%|██████▉   | 138/198 [00:35<00:11,  5.15it/s]\n",
            "Classifying Emotions:   0%|          | 0/1 [00:00<?, ?it/s]\u001b[A\n",
            "Classifying Emotions: 100%|██████████| 1/1 [00:00<00:00,  5.59it/s]\n",
            "Debates Emotions:  70%|███████   | 139/198 [00:35<00:11,  5.22it/s]\n",
            "Classifying Emotions:   0%|          | 0/1 [00:00<?, ?it/s]\u001b[A\n",
            "Classifying Emotions: 100%|██████████| 1/1 [00:00<00:00,  6.19it/s]\n",
            "Debates Emotions:  71%|███████   | 140/198 [00:35<00:10,  5.43it/s]\n",
            "Classifying Emotions:   0%|          | 0/1 [00:00<?, ?it/s]\u001b[A\n",
            "Classifying Emotions: 100%|██████████| 1/1 [00:00<00:00,  5.52it/s]\n",
            "Debates Emotions:  71%|███████   | 141/198 [00:35<00:10,  5.41it/s]\n",
            "Classifying Emotions:   0%|          | 0/1 [00:00<?, ?it/s]\u001b[A\n",
            "Classifying Emotions: 100%|██████████| 1/1 [00:00<00:00,  6.11it/s]\n",
            "Debates Emotions:  72%|███████▏  | 142/198 [00:35<00:10,  5.55it/s]\n",
            "Classifying Emotions:   0%|          | 0/1 [00:00<?, ?it/s]\u001b[A\n",
            "Classifying Emotions: 100%|██████████| 1/1 [00:00<00:00,  4.05it/s]\n",
            "Debates Emotions:  72%|███████▏  | 143/198 [00:36<00:11,  4.96it/s]\n",
            "Classifying Emotions:   0%|          | 0/1 [00:00<?, ?it/s]\u001b[A\n",
            "Classifying Emotions: 100%|██████████| 1/1 [00:00<00:00,  4.12it/s]\n",
            "Debates Emotions:  73%|███████▎  | 144/198 [00:36<00:11,  4.63it/s]\n",
            "Classifying Emotions:   0%|          | 0/1 [00:00<?, ?it/s]\u001b[A\n",
            "Classifying Emotions: 100%|██████████| 1/1 [00:00<00:00,  3.77it/s]\n",
            "Debates Emotions:  73%|███████▎  | 145/198 [00:36<00:12,  4.30it/s]\n",
            "Classifying Emotions:   0%|          | 0/1 [00:00<?, ?it/s]\u001b[A\n",
            "Classifying Emotions: 100%|██████████| 1/1 [00:00<00:00,  4.38it/s]\n",
            "Debates Emotions:  74%|███████▎  | 146/198 [00:36<00:12,  4.29it/s]\n",
            "Classifying Emotions:   0%|          | 0/1 [00:00<?, ?it/s]\u001b[A\n",
            "Classifying Emotions: 100%|██████████| 1/1 [00:00<00:00,  4.07it/s]\n",
            "Debates Emotions:  74%|███████▍  | 147/198 [00:37<00:12,  4.19it/s]\n",
            "Classifying Emotions:   0%|          | 0/1 [00:00<?, ?it/s]\u001b[A\n",
            "Classifying Emotions: 100%|██████████| 1/1 [00:00<00:00,  3.86it/s]\n",
            "Debates Emotions:  75%|███████▍  | 148/198 [00:37<00:12,  4.06it/s]\n",
            "Classifying Emotions:   0%|          | 0/1 [00:00<?, ?it/s]\u001b[A\n",
            "Classifying Emotions: 100%|██████████| 1/1 [00:00<00:00,  4.33it/s]\n",
            "Debates Emotions:  75%|███████▌  | 149/198 [00:37<00:11,  4.10it/s]\n",
            "Classifying Emotions:   0%|          | 0/1 [00:00<?, ?it/s]\u001b[A\n",
            "Classifying Emotions: 100%|██████████| 1/1 [00:00<00:00,  3.46it/s]\n",
            "Debates Emotions:  76%|███████▌  | 150/198 [00:37<00:12,  3.85it/s]\n",
            "Classifying Emotions:   0%|          | 0/1 [00:00<?, ?it/s]\u001b[A\n",
            "Classifying Emotions: 100%|██████████| 1/1 [00:00<00:00,  3.97it/s]\n",
            "Debates Emotions:  76%|███████▋  | 151/198 [00:38<00:12,  3.85it/s]\n",
            "Classifying Emotions:   0%|          | 0/1 [00:00<?, ?it/s]\u001b[A\n",
            "Classifying Emotions: 100%|██████████| 1/1 [00:00<00:00,  4.90it/s]\n",
            "Debates Emotions:  77%|███████▋  | 152/198 [00:38<00:11,  4.08it/s]\n",
            "Classifying Emotions:   0%|          | 0/1 [00:00<?, ?it/s]\u001b[A\n",
            "Classifying Emotions: 100%|██████████| 1/1 [00:00<00:00,  4.29it/s]\n",
            "Debates Emotions:  77%|███████▋  | 153/198 [00:38<00:10,  4.12it/s]\n",
            "Classifying Emotions:   0%|          | 0/1 [00:00<?, ?it/s]\u001b[A\n",
            "Classifying Emotions: 100%|██████████| 1/1 [00:00<00:00,  3.87it/s]\n",
            "Debates Emotions:  78%|███████▊  | 154/198 [00:38<00:10,  4.01it/s]\n",
            "Classifying Emotions:   0%|          | 0/1 [00:00<?, ?it/s]\u001b[A\n",
            "Classifying Emotions: 100%|██████████| 1/1 [00:00<00:00,  3.76it/s]\n",
            "Debates Emotions:  78%|███████▊  | 155/198 [00:39<00:11,  3.90it/s]\n",
            "Classifying Emotions:   0%|          | 0/1 [00:00<?, ?it/s]\u001b[A\n",
            "Classifying Emotions: 100%|██████████| 1/1 [00:00<00:00,  3.64it/s]\n",
            "Debates Emotions:  79%|███████▉  | 156/198 [00:39<00:11,  3.79it/s]\n",
            "Classifying Emotions:   0%|          | 0/1 [00:00<?, ?it/s]\u001b[A\n",
            "Classifying Emotions: 100%|██████████| 1/1 [00:00<00:00,  3.64it/s]\n",
            "Debates Emotions:  79%|███████▉  | 157/198 [00:39<00:11,  3.71it/s]\n",
            "Classifying Emotions:   0%|          | 0/1 [00:00<?, ?it/s]\u001b[A\n",
            "Classifying Emotions: 100%|██████████| 1/1 [00:00<00:00,  6.42it/s]\n",
            "Debates Emotions:  80%|███████▉  | 158/198 [00:39<00:09,  4.21it/s]\n",
            "Classifying Emotions:   0%|          | 0/1 [00:00<?, ?it/s]\u001b[A\n",
            "Classifying Emotions: 100%|██████████| 1/1 [00:00<00:00,  6.52it/s]\n",
            "Debates Emotions:  80%|████████  | 159/198 [00:40<00:08,  4.67it/s]\n",
            "Classifying Emotions:   0%|          | 0/1 [00:00<?, ?it/s]\u001b[A\n",
            "Classifying Emotions: 100%|██████████| 1/1 [00:00<00:00,  5.95it/s]\n",
            "Debates Emotions:  81%|████████  | 160/198 [00:40<00:07,  4.93it/s]\n",
            "Classifying Emotions:   0%|          | 0/1 [00:00<?, ?it/s]\u001b[A\n",
            "Classifying Emotions: 100%|██████████| 1/1 [00:00<00:00,  5.62it/s]\n",
            "Debates Emotions:  81%|████████▏ | 161/198 [00:40<00:07,  5.07it/s]\n",
            "Classifying Emotions:   0%|          | 0/1 [00:00<?, ?it/s]\u001b[A\n",
            "Classifying Emotions: 100%|██████████| 1/1 [00:00<00:00,  6.22it/s]\n",
            "Debates Emotions:  82%|████████▏ | 162/198 [00:40<00:06,  5.33it/s]\n",
            "Classifying Emotions:   0%|          | 0/1 [00:00<?, ?it/s]\u001b[A\n",
            "Classifying Emotions: 100%|██████████| 1/1 [00:00<00:00,  5.74it/s]\n",
            "Debates Emotions:  82%|████████▏ | 163/198 [00:40<00:06,  5.39it/s]\n",
            "Classifying Emotions:   0%|          | 0/1 [00:00<?, ?it/s]\u001b[A\n",
            "Classifying Emotions: 100%|██████████| 1/1 [00:00<00:00,  5.98it/s]\n",
            "Debates Emotions:  83%|████████▎ | 164/198 [00:40<00:06,  5.48it/s]\n",
            "Classifying Emotions:   0%|          | 0/1 [00:00<?, ?it/s]\u001b[A\n",
            "Classifying Emotions: 100%|██████████| 1/1 [00:00<00:00,  6.40it/s]\n",
            "Debates Emotions:  83%|████████▎ | 165/198 [00:41<00:05,  5.67it/s]\n",
            "Classifying Emotions:   0%|          | 0/1 [00:00<?, ?it/s]\u001b[A\n",
            "Classifying Emotions: 100%|██████████| 1/1 [00:00<00:00,  6.22it/s]\n",
            "Debates Emotions:  84%|████████▍ | 166/198 [00:41<00:05,  5.75it/s]\n",
            "Classifying Emotions:   0%|          | 0/1 [00:00<?, ?it/s]\u001b[A\n",
            "Classifying Emotions: 100%|██████████| 1/1 [00:00<00:00,  5.34it/s]\n",
            "Debates Emotions:  84%|████████▍ | 167/198 [00:41<00:05,  5.58it/s]\n",
            "Classifying Emotions:   0%|          | 0/1 [00:00<?, ?it/s]\u001b[A\n",
            "Classifying Emotions: 100%|██████████| 1/1 [00:00<00:00,  6.13it/s]\n",
            "Debates Emotions:  85%|████████▍ | 168/198 [00:41<00:05,  5.69it/s]\n",
            "Classifying Emotions:   0%|          | 0/1 [00:00<?, ?it/s]\u001b[A\n",
            "Classifying Emotions: 100%|██████████| 1/1 [00:00<00:00,  5.89it/s]\n",
            "Debates Emotions:  85%|████████▌ | 169/198 [00:41<00:05,  5.69it/s]\n",
            "Classifying Emotions:   0%|          | 0/1 [00:00<?, ?it/s]\u001b[A\n",
            "Classifying Emotions: 100%|██████████| 1/1 [00:00<00:00,  6.25it/s]\n",
            "Debates Emotions:  86%|████████▌ | 170/198 [00:41<00:04,  5.79it/s]\n",
            "Classifying Emotions:   0%|          | 0/1 [00:00<?, ?it/s]\u001b[A\n",
            "Classifying Emotions: 100%|██████████| 1/1 [00:00<00:00,  5.72it/s]\n",
            "Debates Emotions:  86%|████████▋ | 171/198 [00:42<00:04,  5.71it/s]\n",
            "Classifying Emotions:   0%|          | 0/1 [00:00<?, ?it/s]\u001b[A\n",
            "Classifying Emotions: 100%|██████████| 1/1 [00:00<00:00,  5.78it/s]\n",
            "Debates Emotions:  87%|████████▋ | 172/198 [00:42<00:04,  5.68it/s]\n",
            "Classifying Emotions:   0%|          | 0/1 [00:00<?, ?it/s]\u001b[A\n",
            "Classifying Emotions: 100%|██████████| 1/1 [00:00<00:00,  5.04it/s]\n",
            "Debates Emotions:  87%|████████▋ | 173/198 [00:42<00:04,  5.43it/s]\n",
            "Classifying Emotions:   0%|          | 0/1 [00:00<?, ?it/s]\u001b[A\n",
            "Classifying Emotions: 100%|██████████| 1/1 [00:00<00:00,  5.75it/s]\n",
            "Debates Emotions:  88%|████████▊ | 174/198 [00:42<00:04,  5.47it/s]\n",
            "Classifying Emotions:   0%|          | 0/1 [00:00<?, ?it/s]\u001b[A\n",
            "Classifying Emotions: 100%|██████████| 1/1 [00:00<00:00,  5.04it/s]\n",
            "Debates Emotions:  88%|████████▊ | 175/198 [00:42<00:04,  5.27it/s]\n",
            "Classifying Emotions:   0%|          | 0/1 [00:00<?, ?it/s]\u001b[A\n",
            "Classifying Emotions: 100%|██████████| 1/1 [00:00<00:00,  5.25it/s]\n",
            "Debates Emotions:  89%|████████▉ | 176/198 [00:43<00:04,  5.20it/s]\n",
            "Classifying Emotions:   0%|          | 0/1 [00:00<?, ?it/s]\u001b[A\n",
            "Classifying Emotions: 100%|██████████| 1/1 [00:00<00:00,  4.39it/s]\n",
            "Debates Emotions:  89%|████████▉ | 177/198 [00:43<00:04,  4.88it/s]\n",
            "Classifying Emotions:   0%|          | 0/1 [00:00<?, ?it/s]\u001b[A\n",
            "Classifying Emotions: 100%|██████████| 1/1 [00:00<00:00,  4.67it/s]\n",
            "Debates Emotions:  90%|████████▉ | 178/198 [00:43<00:04,  4.79it/s]\n",
            "Classifying Emotions:   0%|          | 0/1 [00:00<?, ?it/s]\u001b[A\n",
            "Classifying Emotions: 100%|██████████| 1/1 [00:00<00:00,  4.62it/s]\n",
            "Debates Emotions:  90%|█████████ | 179/198 [00:43<00:04,  4.70it/s]\n",
            "Classifying Emotions:   0%|          | 0/1 [00:00<?, ?it/s]\u001b[A\n",
            "Classifying Emotions: 100%|██████████| 1/1 [00:00<00:00,  4.63it/s]\n",
            "Debates Emotions:  91%|█████████ | 180/198 [00:43<00:03,  4.64it/s]\n",
            "Classifying Emotions:   0%|          | 0/1 [00:00<?, ?it/s]\u001b[A\n",
            "Classifying Emotions: 100%|██████████| 1/1 [00:00<00:00,  5.22it/s]\n",
            "Debates Emotions:  91%|█████████▏| 181/198 [00:44<00:03,  4.77it/s]\n",
            "Classifying Emotions:   0%|          | 0/1 [00:00<?, ?it/s]\u001b[A\n",
            "Classifying Emotions: 100%|██████████| 1/1 [00:00<00:00,  5.25it/s]\n",
            "Debates Emotions:  92%|█████████▏| 182/198 [00:44<00:03,  4.86it/s]\n",
            "Classifying Emotions:   0%|          | 0/1 [00:00<?, ?it/s]\u001b[A\n",
            "Classifying Emotions: 100%|██████████| 1/1 [00:00<00:00,  4.81it/s]\n",
            "Debates Emotions:  92%|█████████▏| 183/198 [00:44<00:03,  4.81it/s]\n",
            "Classifying Emotions:   0%|          | 0/1 [00:00<?, ?it/s]\u001b[A\n",
            "Classifying Emotions: 100%|██████████| 1/1 [00:00<00:00,  4.71it/s]\n",
            "Debates Emotions:  93%|█████████▎| 184/198 [00:44<00:02,  4.75it/s]\n",
            "Classifying Emotions:   0%|          | 0/1 [00:00<?, ?it/s]\u001b[A\n",
            "Classifying Emotions: 100%|██████████| 1/1 [00:00<00:00,  5.29it/s]\n",
            "Debates Emotions:  93%|█████████▎| 185/198 [00:45<00:02,  4.86it/s]\n",
            "Classifying Emotions:   0%|          | 0/1 [00:00<?, ?it/s]\u001b[A\n",
            "Classifying Emotions: 100%|██████████| 1/1 [00:00<00:00,  4.35it/s]\n",
            "Debates Emotions:  94%|█████████▍| 186/198 [00:45<00:02,  4.66it/s]\n",
            "Classifying Emotions:   0%|          | 0/1 [00:00<?, ?it/s]\u001b[A\n",
            "Classifying Emotions: 100%|██████████| 1/1 [00:00<00:00,  4.02it/s]\n",
            "Debates Emotions:  94%|█████████▍| 187/198 [00:45<00:02,  4.41it/s]\n",
            "Classifying Emotions:   0%|          | 0/1 [00:00<?, ?it/s]\u001b[A\n",
            "Classifying Emotions: 100%|██████████| 1/1 [00:00<00:00,  4.25it/s]\n",
            "Debates Emotions:  95%|█████████▍| 188/198 [00:45<00:02,  4.32it/s]\n",
            "Classifying Emotions:   0%|          | 0/1 [00:00<?, ?it/s]\u001b[A\n",
            "Classifying Emotions: 100%|██████████| 1/1 [00:00<00:00,  4.32it/s]\n",
            "Debates Emotions:  95%|█████████▌| 189/198 [00:45<00:02,  4.29it/s]\n",
            "Classifying Emotions:   0%|          | 0/1 [00:00<?, ?it/s]\u001b[A\n",
            "Classifying Emotions: 100%|██████████| 1/1 [00:00<00:00,  4.16it/s]\n",
            "Debates Emotions:  96%|█████████▌| 190/198 [00:46<00:01,  4.22it/s]\n",
            "Classifying Emotions:   0%|          | 0/1 [00:00<?, ?it/s]\u001b[A\n",
            "Classifying Emotions: 100%|██████████| 1/1 [00:00<00:00,  4.50it/s]\n",
            "Debates Emotions:  96%|█████████▋| 191/198 [00:46<00:01,  4.28it/s]\n",
            "Classifying Emotions:   0%|          | 0/1 [00:00<?, ?it/s]\u001b[A\n",
            "Classifying Emotions: 100%|██████████| 1/1 [00:00<00:00,  4.37it/s]\n",
            "Debates Emotions:  97%|█████████▋| 192/198 [00:46<00:01,  4.27it/s]\n",
            "Classifying Emotions:   0%|          | 0/1 [00:00<?, ?it/s]\u001b[A\n",
            "Classifying Emotions: 100%|██████████| 1/1 [00:00<00:00,  4.41it/s]\n",
            "Debates Emotions:  97%|█████████▋| 193/198 [00:46<00:01,  4.27it/s]\n",
            "Classifying Emotions:   0%|          | 0/1 [00:00<?, ?it/s]\u001b[A\n",
            "Classifying Emotions: 100%|██████████| 1/1 [00:00<00:00,  3.75it/s]\n",
            "Debates Emotions:  98%|█████████▊| 194/198 [00:47<00:00,  4.08it/s]\n",
            "Classifying Emotions:   0%|          | 0/1 [00:00<?, ?it/s]\u001b[A\n",
            "Classifying Emotions: 100%|██████████| 1/1 [00:00<00:00,  3.61it/s]\n",
            "Debates Emotions:  98%|█████████▊| 195/198 [00:47<00:00,  3.90it/s]\n",
            "Classifying Emotions:   0%|          | 0/1 [00:00<?, ?it/s]\u001b[A\n",
            "Classifying Emotions: 100%|██████████| 1/1 [00:00<00:00,  3.45it/s]\n",
            "Debates Emotions:  99%|█████████▉| 196/198 [00:47<00:00,  3.73it/s]\n",
            "Classifying Emotions:   0%|          | 0/1 [00:00<?, ?it/s]\u001b[A\n",
            "Classifying Emotions: 100%|██████████| 1/1 [00:00<00:00,  3.78it/s]\n",
            "Debates Emotions:  99%|█████████▉| 197/198 [00:48<00:00,  3.72it/s]\n",
            "Classifying Emotions: 100%|██████████| 1/1 [00:00<00:00, 10.84it/s]\n",
            "Debates Emotions: 100%|██████████| 198/198 [00:48<00:00,  4.11it/s]"
          ]
        },
        {
          "name": "stdout",
          "output_type": "stream",
          "text": [
            "\n",
            "[INFO] Debates emotion classification complete: (6316, 4)\n",
            "                            utterance_id  \\\n",
            "0  1960_1_Presidential_Nixon_Kennedy_001   \n",
            "1  1960_1_Presidential_Nixon_Kennedy_002   \n",
            "2  1960_1_Presidential_Nixon_Kennedy_004   \n",
            "3  1960_1_Presidential_Nixon_Kennedy_005   \n",
            "4  1960_1_Presidential_Nixon_Kennedy_006   \n",
            "\n",
            "                                                text emotion_label  \\\n",
            "0  good evening. the television and radio station...           joy   \n",
            "1  mr. smith, mr. nixon. in the election of 1860,...           joy   \n",
            "2  mr. smith, senator kennedy. the things that se...           joy   \n",
            "3  thank you, mr. nixon. that completes the openi...           joy   \n",
            "4  senator, the vice president in his campaign ha...         anger   \n",
            "\n",
            "   emotion_score  \n",
            "0       0.641503  \n",
            "1       0.321501  \n",
            "2       0.338791  \n",
            "3       0.756695  \n",
            "4       0.260542  \n"
          ]
        },
        {
          "name": "stderr",
          "output_type": "stream",
          "text": [
            "\n"
          ]
        }
      ],
      "source": [
        "# === CLASSIFY FULL DEBATES (EMOTIONS) ===\n",
        "\n",
        "debate_texts = df_debates[\"text\"].dropna().tolist()\n",
        "\n",
        "debate_emotions_batches = []\n",
        "BATCH_SIZE = 32\n",
        "for i in tqdm.tqdm(range(0, len(debate_texts), BATCH_SIZE), desc=\"Debates Emotions\"):\n",
        "    batch = debate_texts[i:i+BATCH_SIZE]\n",
        "    batch_df = classify_emotions(batch, batch_size=BATCH_SIZE)\n",
        "    debate_emotions_batches.append(batch_df)\n",
        "\n",
        "debate_emotions_full = pd.concat(debate_emotions_batches, axis=0).reset_index(drop=True)\n",
        "\n",
        "# slim dataframe\n",
        "df_debates_emotions = pd.DataFrame({\n",
        "    \"utterance_id\": df_debates[\"utterance_id\"],\n",
        "    \"text\": df_debates[\"text\"],\n",
        "    \"emotion_label\": debate_emotions_full[\"emotion_label\"],\n",
        "    \"emotion_score\": debate_emotions_full[\"emotion_score\"]\n",
        "})\n",
        "\n",
        "print(\"\\n[INFO] Debates emotion classification complete:\", df_debates_emotions.shape)\n",
        "print(df_debates_emotions.head())"
      ]
    },
    {
      "cell_type": "markdown",
      "metadata": {
        "id": "xKaPZ4QJWkk1"
      },
      "source": [
        "### 4.2. Media Dataset"
      ]
    },
    {
      "cell_type": "code",
      "execution_count": 28,
      "metadata": {
        "colab": {
          "base_uri": "https://localhost:8080/"
        },
        "id": "oyc_ZDnzXBau",
        "outputId": "420f145a-73fd-48c9-c9c7-99c3f45a0615"
      },
      "outputs": [
        {
          "name": "stderr",
          "output_type": "stream",
          "text": [
            "Media Sentiment: 100%|██████████| 22/22 [00:13<00:00,  1.61it/s]"
          ]
        },
        {
          "name": "stdout",
          "output_type": "stream",
          "text": [
            "\n",
            "[INFO] Media sentiment classification complete: (675, 4)\n",
            "   chunk_index                                         chunk_text  \\\n",
            "0            2  stone said. jonathan gruber, the mit professor...   \n",
            "1            1  \"we're thinking of having him in the spin room...   \n",
            "2            7  iowa caucuses. trump was right when he accused...   \n",
            "3            1  if the government stops fighting a lawsuit tha...   \n",
            "4            1  foreign desk: stopping the ayatollahs' nukes n...   \n",
            "\n",
            "  sentiment_label  sentiment_score  \n",
            "0        negative         0.494473  \n",
            "1         neutral         0.857393  \n",
            "2         neutral         0.620738  \n",
            "3        negative         0.523026  \n",
            "4         neutral         0.674028  \n"
          ]
        },
        {
          "name": "stderr",
          "output_type": "stream",
          "text": [
            "\n"
          ]
        }
      ],
      "source": [
        "# === CLASSIFY MEDIA (SENTIMENT) ===\n",
        "\n",
        "media_texts = df_media[\"chunk_text\"].dropna().tolist()\n",
        "\n",
        "media_sent_batches = []\n",
        "BATCH_SIZE = 32\n",
        "for i in tqdm.tqdm(range(0, len(media_texts), BATCH_SIZE), desc=\"Media Sentiment\"):\n",
        "    batch = media_texts[i:i+BATCH_SIZE]\n",
        "    batch_df = classify_sentiment(batch)\n",
        "    media_sent_batches.append(batch_df)\n",
        "\n",
        "media_sent_full = pd.concat(media_sent_batches, axis=0).reset_index(drop=True)\n",
        "\n",
        "# slim dataframe\n",
        "df_media_sentiment = pd.DataFrame({\n",
        "    \"chunk_index\": df_media[\"chunk_index\"],\n",
        "    \"chunk_text\": df_media[\"chunk_text\"],\n",
        "    \"sentiment_label\": media_sent_full[\"sentiment_label\"],\n",
        "    \"sentiment_score\": media_sent_full[\"sentiment_score\"]\n",
        "})\n",
        "\n",
        "print(\"\\n[INFO] Media sentiment classification complete:\", df_media_sentiment.shape)\n",
        "print(df_media_sentiment.head())"
      ]
    },
    {
      "cell_type": "code",
      "execution_count": 32,
      "metadata": {
        "colab": {
          "base_uri": "https://localhost:8080/"
        },
        "id": "Lna30KbXYIf_",
        "outputId": "f29cdd1a-5e79-4dcd-f450-558fcb4b5b3f"
      },
      "outputs": [
        {
          "name": "stderr",
          "output_type": "stream",
          "text": [
            "Media Emotions:   0%|          | 0/22 [00:00<?, ?it/s]\n",
            "Classifying Emotions:   0%|          | 0/1 [00:00<?, ?it/s]\u001b[A/usr/local/lib/python3.12/dist-packages/transformers/pipelines/text_classification.py:111: UserWarning: `return_all_scores` is now deprecated,  if want a similar functionality use `top_k=None` instead of `return_all_scores=True` or `top_k=1` instead of `return_all_scores=False`.\n",
            "  warnings.warn(\n",
            "\n",
            "Classifying Emotions: 100%|██████████| 1/1 [00:00<00:00,  2.28it/s]\n",
            "Media Emotions:   5%|▍         | 1/22 [00:00<00:09,  2.25it/s]\n",
            "Classifying Emotions:   0%|          | 0/1 [00:00<?, ?it/s]\u001b[A\n",
            "Classifying Emotions: 100%|██████████| 1/1 [00:00<00:00,  3.14it/s]\n",
            "Media Emotions:   9%|▉         | 2/22 [00:00<00:07,  2.68it/s]\n",
            "Classifying Emotions:   0%|          | 0/1 [00:00<?, ?it/s]\u001b[A\n",
            "Classifying Emotions: 100%|██████████| 1/1 [00:00<00:00,  2.94it/s]\n",
            "Media Emotions:  14%|█▎        | 3/22 [00:01<00:06,  2.77it/s]\n",
            "Classifying Emotions:   0%|          | 0/1 [00:00<?, ?it/s]\u001b[A\n",
            "Classifying Emotions: 100%|██████████| 1/1 [00:00<00:00,  3.00it/s]\n",
            "Media Emotions:  18%|█▊        | 4/22 [00:01<00:06,  2.84it/s]\n",
            "Classifying Emotions:   0%|          | 0/1 [00:00<?, ?it/s]\u001b[A\n",
            "Classifying Emotions: 100%|██████████| 1/1 [00:00<00:00,  3.09it/s]\n",
            "Media Emotions:  23%|██▎       | 5/22 [00:01<00:05,  2.91it/s]\n",
            "Classifying Emotions:   0%|          | 0/1 [00:00<?, ?it/s]\u001b[A\n",
            "Classifying Emotions: 100%|██████████| 1/1 [00:00<00:00,  3.01it/s]\n",
            "Media Emotions:  27%|██▋       | 6/22 [00:02<00:05,  2.92it/s]\n",
            "Classifying Emotions:   0%|          | 0/1 [00:00<?, ?it/s]\u001b[A\n",
            "Classifying Emotions: 100%|██████████| 1/1 [00:00<00:00,  2.82it/s]\n",
            "Media Emotions:  32%|███▏      | 7/22 [00:02<00:05,  2.87it/s]\n",
            "Classifying Emotions:   0%|          | 0/1 [00:00<?, ?it/s]\u001b[A\n",
            "Classifying Emotions: 100%|██████████| 1/1 [00:00<00:00,  2.90it/s]\n",
            "Media Emotions:  36%|███▋      | 8/22 [00:02<00:04,  2.86it/s]\n",
            "Classifying Emotions:   0%|          | 0/1 [00:00<?, ?it/s]\u001b[A\n",
            "Classifying Emotions: 100%|██████████| 1/1 [00:00<00:00,  3.00it/s]\n",
            "Media Emotions:  41%|████      | 9/22 [00:03<00:04,  2.89it/s]\n",
            "Classifying Emotions:   0%|          | 0/1 [00:00<?, ?it/s]\u001b[A\n",
            "Classifying Emotions: 100%|██████████| 1/1 [00:00<00:00,  3.01it/s]\n",
            "Media Emotions:  45%|████▌     | 10/22 [00:03<00:04,  2.91it/s]\n",
            "Classifying Emotions:   0%|          | 0/1 [00:00<?, ?it/s]\u001b[A\n",
            "Classifying Emotions: 100%|██████████| 1/1 [00:00<00:00,  2.95it/s]\n",
            "Media Emotions:  50%|█████     | 11/22 [00:03<00:03,  2.91it/s]\n",
            "Classifying Emotions:   0%|          | 0/1 [00:00<?, ?it/s]\u001b[A\n",
            "Classifying Emotions: 100%|██████████| 1/1 [00:00<00:00,  2.97it/s]\n",
            "Media Emotions:  55%|█████▍    | 12/22 [00:04<00:03,  2.92it/s]\n",
            "Classifying Emotions:   0%|          | 0/1 [00:00<?, ?it/s]\u001b[A\n",
            "Classifying Emotions: 100%|██████████| 1/1 [00:00<00:00,  2.91it/s]\n",
            "Media Emotions:  59%|█████▉    | 13/22 [00:04<00:03,  2.90it/s]\n",
            "Classifying Emotions:   0%|          | 0/1 [00:00<?, ?it/s]\u001b[A\n",
            "Classifying Emotions: 100%|██████████| 1/1 [00:00<00:00,  2.96it/s]\n",
            "Media Emotions:  64%|██████▎   | 14/22 [00:04<00:02,  2.90it/s]\n",
            "Classifying Emotions:   0%|          | 0/1 [00:00<?, ?it/s]\u001b[A\n",
            "Classifying Emotions: 100%|██████████| 1/1 [00:00<00:00,  2.91it/s]\n",
            "Media Emotions:  68%|██████▊   | 15/22 [00:05<00:02,  2.89it/s]\n",
            "Classifying Emotions:   0%|          | 0/1 [00:00<?, ?it/s]\u001b[A\n",
            "Classifying Emotions: 100%|██████████| 1/1 [00:00<00:00,  2.79it/s]\n",
            "Media Emotions:  73%|███████▎  | 16/22 [00:05<00:02,  2.84it/s]\n",
            "Classifying Emotions:   0%|          | 0/1 [00:00<?, ?it/s]\u001b[A\n",
            "Classifying Emotions: 100%|██████████| 1/1 [00:00<00:00,  2.90it/s]\n",
            "Media Emotions:  77%|███████▋  | 17/22 [00:05<00:01,  2.84it/s]\n",
            "Classifying Emotions:   0%|          | 0/1 [00:00<?, ?it/s]\u001b[A\n",
            "Classifying Emotions: 100%|██████████| 1/1 [00:00<00:00,  3.02it/s]\n",
            "Media Emotions:  82%|████████▏ | 18/22 [00:06<00:01,  2.88it/s]\n",
            "Classifying Emotions:   0%|          | 0/1 [00:00<?, ?it/s]\u001b[A\n",
            "Classifying Emotions: 100%|██████████| 1/1 [00:00<00:00,  2.82it/s]\n",
            "Media Emotions:  86%|████████▋ | 19/22 [00:06<00:01,  2.85it/s]\n",
            "Classifying Emotions:   0%|          | 0/1 [00:00<?, ?it/s]\u001b[A\n",
            "Classifying Emotions: 100%|██████████| 1/1 [00:00<00:00,  2.77it/s]\n",
            "Media Emotions:  91%|█████████ | 20/22 [00:07<00:00,  2.80it/s]\n",
            "Classifying Emotions:   0%|          | 0/1 [00:00<?, ?it/s]\u001b[A\n",
            "Classifying Emotions: 100%|██████████| 1/1 [00:00<00:00,  2.90it/s]\n",
            "Media Emotions:  95%|█████████▌| 21/22 [00:07<00:00,  2.82it/s]\n",
            "Classifying Emotions: 100%|██████████| 1/1 [00:00<00:00, 29.72it/s]\n",
            "Media Emotions: 100%|██████████| 22/22 [00:07<00:00,  2.97it/s]"
          ]
        },
        {
          "name": "stdout",
          "output_type": "stream",
          "text": [
            "\n",
            "[INFO] Media emotion classification complete: (675, 4)\n",
            "   chunk_index                                         chunk_text  \\\n",
            "0            2  stone said. jonathan gruber, the mit professor...   \n",
            "1            1  \"we're thinking of having him in the spin room...   \n",
            "2            7  iowa caucuses. trump was right when he accused...   \n",
            "3            1  if the government stops fighting a lawsuit tha...   \n",
            "4            1  foreign desk: stopping the ayatollahs' nukes n...   \n",
            "\n",
            "  emotion_label  emotion_score  \n",
            "0           joy       0.322961  \n",
            "1           joy       0.340010  \n",
            "2           joy       0.333045  \n",
            "3           joy       0.299062  \n",
            "4           joy       0.330131  \n"
          ]
        },
        {
          "name": "stderr",
          "output_type": "stream",
          "text": [
            "\n"
          ]
        }
      ],
      "source": [
        "# === CLASSIFY MEDIA (EMOTIONS) ===\n",
        "\n",
        "media_texts = df_media[\"chunk_text\"].dropna().tolist()\n",
        "\n",
        "media_emotions_batches = []\n",
        "BATCH_SIZE = 32\n",
        "for i in tqdm.tqdm(range(0, len(media_texts), BATCH_SIZE), desc=\"Media Emotions\"):\n",
        "    batch = media_texts[i:i+BATCH_SIZE]\n",
        "    batch_df = classify_emotions(batch, batch_size=BATCH_SIZE)\n",
        "    media_emotions_batches.append(batch_df)\n",
        "\n",
        "media_emotions_full = pd.concat(media_emotions_batches, axis=0).reset_index(drop=True)\n",
        "\n",
        "# slim dataframe\n",
        "df_media_emotions = pd.DataFrame({\n",
        "    \"chunk_index\": df_media[\"chunk_index\"],\n",
        "    \"chunk_text\": df_media[\"chunk_text\"],\n",
        "    \"emotion_label\": media_emotions_full[\"emotion_label\"],\n",
        "    \"emotion_score\": media_emotions_full[\"emotion_score\"]\n",
        "})\n",
        "\n",
        "print(\"\\n[INFO] Media emotion classification complete:\", df_media_emotions.shape)\n",
        "print(df_media_emotions.head())"
      ]
    },
    {
      "cell_type": "markdown",
      "metadata": {
        "id": "XAvlHKo8Ryta"
      },
      "source": [
        "## 5. Quality Controls & Filtering"
      ]
    },
    {
      "cell_type": "markdown",
      "metadata": {
        "id": "NUaHdCxTb1sE"
      },
      "source": [
        "### 5.1. Sentiment QC"
      ]
    },
    {
      "cell_type": "code",
      "execution_count": 33,
      "metadata": {
        "colab": {
          "base_uri": "https://localhost:8080/",
          "height": 803
        },
        "id": "QVkMqQdVbvY_",
        "outputId": "483e1ea7-b55e-4b18-a9ae-b58681ec1808"
      },
      "outputs": [
        {
          "data": {
            "image/png": "[encoded data removed]",
            "text/plain": [
              "<Figure size 700x400 with 1 Axes>"
            ]
          },
          "metadata": {},
          "output_type": "display_data"
        },
        {
          "data": {
            "image/png": "[encoded data removed]",
            "text/plain": [
              "<Figure size 700x400 with 1 Axes>"
            ]
          },
          "metadata": {},
          "output_type": "display_data"
        }
      ],
      "source": [
        "# === SENTIMENT QC: DISTRIBUTION OF SCORES ===\n",
        "\n",
        "def plot_sentiment_scores(df, dataset_name=\"dataset\"):\n",
        "    plt.figure(figsize=(7,4))\n",
        "    df[\"sentiment_score\"].hist(bins=30, alpha=0.7)\n",
        "    plt.title(f\"Distribution of Sentiment Scores ({dataset_name})\")\n",
        "    plt.xlabel(\"Best sentiment probability\")\n",
        "    plt.ylabel(\"Count\")\n",
        "    plt.show()\n",
        "\n",
        "plot_sentiment_scores(df_debates_sentiment, \"Debates\")\n",
        "plot_sentiment_scores(df_media_sentiment, \"Media\")"
      ]
    },
    {
      "cell_type": "code",
      "execution_count": 34,
      "metadata": {
        "colab": {
          "base_uri": "https://localhost:8080/"
        },
        "id": "brAfX_iAb517",
        "outputId": "c1982909-3e6f-4362-eddd-20336eb6ea71"
      },
      "outputs": [
        {
          "name": "stdout",
          "output_type": "stream",
          "text": [
            "[INFO] Debates sentiment score stats:\n",
            "count    6316.000000\n",
            "mean        0.700892\n",
            "std         0.134329\n",
            "min         0.362319\n",
            "25%         0.588849\n",
            "50%         0.699710\n",
            "75%         0.810694\n",
            "max         0.990331\n",
            "Name: sentiment_score, dtype: float64 \n",
            "\n",
            "[INFO] Media sentiment score stats:\n",
            "count    675.000000\n",
            "mean       0.669760\n",
            "std        0.112715\n",
            "min        0.460838\n",
            "25%        0.576362\n",
            "50%        0.662854\n",
            "75%        0.765337\n",
            "max        0.954917\n",
            "Name: sentiment_score, dtype: float64\n"
          ]
        }
      ],
      "source": [
        "# === SENTIMENT QC: SUMMARY STATS ===\n",
        "\n",
        "print(\"[INFO] Debates sentiment score stats:\")\n",
        "print(df_debates_sentiment[\"sentiment_score\"].describe(), \"\\n\")\n",
        "\n",
        "print(\"[INFO] Media sentiment score stats:\")\n",
        "print(df_media_sentiment[\"sentiment_score\"].describe())"
      ]
    },
    {
      "cell_type": "code",
      "execution_count": 35,
      "metadata": {
        "colab": {
          "base_uri": "https://localhost:8080/"
        },
        "id": "ciechD4McEdG",
        "outputId": "5f631a9c-439d-4d43-fe09-091b8b61158a"
      },
      "outputs": [
        {
          "name": "stdout",
          "output_type": "stream",
          "text": [
            "[INFO] Debates sentiment distribution (before):\n",
            "sentiment_label\n",
            "neutral     55.335655\n",
            "negative    31.412286\n",
            "positive    13.252058\n",
            "Name: proportion, dtype: float64 \n",
            "\n",
            "[INFO] Media sentiment distribution (before):\n",
            "sentiment_label\n",
            "neutral     66.222222\n",
            "negative    30.222222\n",
            "positive     3.555556\n",
            "Name: proportion, dtype: float64\n"
          ]
        }
      ],
      "source": [
        "# === SENTIMENT QC: LABEL DISTRIBUTION (BEFORE FILTERING) ===\n",
        "\n",
        "print(\"[INFO] Debates sentiment distribution (before):\")\n",
        "print(df_debates_sentiment[\"sentiment_label\"].value_counts(normalize=True) * 100, \"\\n\")\n",
        "\n",
        "print(\"[INFO] Media sentiment distribution (before):\")\n",
        "print(df_media_sentiment[\"sentiment_label\"].value_counts(normalize=True) * 100)"
      ]
    },
    {
      "cell_type": "markdown",
      "metadata": {
        "id": "tuwgk8sZb-zq"
      },
      "source": [
        "### 5.2. Sentiment Filtering"
      ]
    },
    {
      "cell_type": "code",
      "execution_count": 36,
      "metadata": {
        "colab": {
          "base_uri": "https://localhost:8080/"
        },
        "id": "S8Kd5MUfcCdj",
        "outputId": "f3fa35cb-c7ed-47c2-b7f2-ec17a84b6096"
      },
      "outputs": [
        {
          "name": "stdout",
          "output_type": "stream",
          "text": [
            "[INFO] Debates sentiment distribution (after filtering):\n",
            "sentiment_final\n",
            "neutral        52.153262\n",
            "negative       29.797340\n",
            "positive       12.507916\n",
            "unspecified     5.541482\n",
            "Name: proportion, dtype: float64 \n",
            "\n",
            "[INFO] Media sentiment distribution (after filtering):\n",
            "sentiment_final\n",
            "neutral        64.148148\n",
            "negative       28.000000\n",
            "unspecified     4.296296\n",
            "positive        3.555556\n",
            "Name: proportion, dtype: float64\n"
          ]
        }
      ],
      "source": [
        "# === SENTIMENT FILTERING ===\n",
        "SENTIMENT_THRESH = 0.50\n",
        "\n",
        "df_debates_sentiment[\"sentiment_final\"] = df_debates_sentiment.apply(\n",
        "    lambda row: row[\"sentiment_label\"] if row[\"sentiment_score\"] >= SENTIMENT_THRESH else \"unspecified\",\n",
        "    axis=1\n",
        ")\n",
        "\n",
        "df_media_sentiment[\"sentiment_final\"] = df_media_sentiment.apply(\n",
        "    lambda row: row[\"sentiment_label\"] if row[\"sentiment_score\"] >= SENTIMENT_THRESH else \"unspecified\",\n",
        "    axis=1\n",
        ")\n",
        "\n",
        "print(\"[INFO] Debates sentiment distribution (after filtering):\")\n",
        "print(df_debates_sentiment[\"sentiment_final\"].value_counts(normalize=True) * 100, \"\\n\")\n",
        "\n",
        "print(\"[INFO] Media sentiment distribution (after filtering):\")\n",
        "print(df_media_sentiment[\"sentiment_final\"].value_counts(normalize=True) * 100)"
      ]
    },
    {
      "cell_type": "markdown",
      "metadata": {
        "id": "UkzmOjihcU2G"
      },
      "source": [
        "### 5.3. Emotions QC"
      ]
    },
    {
      "cell_type": "code",
      "execution_count": 37,
      "metadata": {
        "colab": {
          "base_uri": "https://localhost:8080/",
          "height": 803
        },
        "id": "KA1QTp6mcXiw",
        "outputId": "1bbbadef-73ed-40f7-b483-16d914146576"
      },
      "outputs": [
        {
          "data": {
            "image/png": "[encoded data removed]",
            "text/plain": [
              "<Figure size 700x400 with 1 Axes>"
            ]
          },
          "metadata": {},
          "output_type": "display_data"
        },
        {
          "data": {
            "image/png": "[encoded data removed]",
            "text/plain": [
              "<Figure size 700x400 with 1 Axes>"
            ]
          },
          "metadata": {},
          "output_type": "display_data"
        }
      ],
      "source": [
        "# === EMOTIONS QC: DISTRIBUTION OF SCORES ===\n",
        "\n",
        "def plot_emotion_scores(df, dataset_name=\"dataset\"):\n",
        "    plt.figure(figsize=(7,4))\n",
        "    df[\"emotion_score\"].hist(bins=30, alpha=0.7)\n",
        "    plt.title(f\"Distribution of Emotion Scores ({dataset_name})\")\n",
        "    plt.xlabel(\"Best emotion probability\")\n",
        "    plt.ylabel(\"Count\")\n",
        "    plt.show()\n",
        "\n",
        "plot_emotion_scores(df_debates_emotions, \"Debates\")\n",
        "plot_emotion_scores(df_media_emotions, \"Media\")"
      ]
    },
    {
      "cell_type": "code",
      "execution_count": 38,
      "metadata": {
        "colab": {
          "base_uri": "https://localhost:8080/"
        },
        "id": "UCub6j5LcfpR",
        "outputId": "76cb88e5-c069-4b0f-e6a5-f4ccb4faedd0"
      },
      "outputs": [
        {
          "name": "stdout",
          "output_type": "stream",
          "text": [
            "[INFO] Debates emotion score stats:\n",
            "count    6316.000000\n",
            "mean        0.390033\n",
            "std         0.125848\n",
            "min         0.123068\n",
            "25%         0.296535\n",
            "50%         0.361047\n",
            "75%         0.453804\n",
            "max         0.873940\n",
            "Name: emotion_score, dtype: float64 \n",
            "\n",
            "[INFO] Media emotion score stats:\n",
            "count    675.000000\n",
            "mean       0.344931\n",
            "std        0.067931\n",
            "min        0.215411\n",
            "25%        0.294157\n",
            "50%        0.333045\n",
            "75%        0.387657\n",
            "max        0.620033\n",
            "Name: emotion_score, dtype: float64\n"
          ]
        }
      ],
      "source": [
        "# === EMOTIONS QC: SUMMARY STATS ===\n",
        "\n",
        "print(\"[INFO] Debates emotion score stats:\")\n",
        "print(df_debates_emotions[\"emotion_score\"].describe(), \"\\n\")\n",
        "\n",
        "print(\"[INFO] Media emotion score stats:\")\n",
        "print(df_media_emotions[\"emotion_score\"].describe())"
      ]
    },
    {
      "cell_type": "code",
      "execution_count": 39,
      "metadata": {
        "colab": {
          "base_uri": "https://localhost:8080/"
        },
        "id": "EcbTGsAecugE",
        "outputId": "4c86f445-af41-4176-e33f-6f9ea3c4b4dd"
      },
      "outputs": [
        {
          "name": "stdout",
          "output_type": "stream",
          "text": [
            "[INFO] Debates emotions distribution (before):\n",
            "emotion_label\n",
            "joy         72.735909\n",
            "sadness     12.017099\n",
            "surprise    10.402153\n",
            "anger        4.559848\n",
            "fear         0.269158\n",
            "neutral      0.015833\n",
            "Name: proportion, dtype: float64 \n",
            "\n",
            "[INFO] Media emotions distribution (before):\n",
            "emotion_label\n",
            "joy         76.888889\n",
            "sadness     14.074074\n",
            "anger        5.777778\n",
            "surprise     3.111111\n",
            "fear         0.148148\n",
            "Name: proportion, dtype: float64\n"
          ]
        }
      ],
      "source": [
        "# === EMOTIONS QC: LABEL DISTRIBUTION (BEFORE FILTERING) ===\n",
        "\n",
        "print(\"[INFO] Debates emotions distribution (before):\")\n",
        "print(df_debates_emotions[\"emotion_label\"].value_counts(normalize=True) * 100, \"\\n\")\n",
        "\n",
        "print(\"[INFO] Media emotions distribution (before):\")\n",
        "print(df_media_emotions[\"emotion_label\"].value_counts(normalize=True) * 100)"
      ]
    },
    {
      "cell_type": "markdown",
      "metadata": {
        "id": "ovktg4F2cz7_"
      },
      "source": [
        "### 5.4. Emotions Filtering"
      ]
    },
    {
      "cell_type": "code",
      "execution_count": 43,
      "metadata": {
        "colab": {
          "base_uri": "https://localhost:8080/"
        },
        "id": "DF7vBQ9Dc3WL",
        "outputId": "b5b30ed7-934d-4163-866d-de3ddc7e6612"
      },
      "outputs": [
        {
          "name": "stdout",
          "output_type": "stream",
          "text": [
            "[INFO] Debates emotions distribution (after filtering):\n",
            "emotion_final\n",
            "joy            46.041799\n",
            "unspecified    45.962635\n",
            "sadness         4.639012\n",
            "surprise        2.169094\n",
            "anger           1.044965\n",
            "fear            0.142495\n",
            "Name: proportion, dtype: float64 \n",
            "\n",
            "[INFO] Media emotions distribution (after filtering):\n",
            "emotion_final\n",
            "unspecified    58.666667\n",
            "joy            36.296296\n",
            "sadness         3.259259\n",
            "anger           1.481481\n",
            "surprise        0.296296\n",
            "Name: proportion, dtype: float64\n"
          ]
        }
      ],
      "source": [
        "# === EMOTIONS FILTERING ===\n",
        "EMOTION_THRESH = 0.35\n",
        "\n",
        "df_debates_emotions[\"emotion_final\"] = df_debates_emotions.apply(\n",
        "    lambda row: row[\"emotion_label\"] if row[\"emotion_score\"] >= EMOTION_THRESH else \"unspecified\",\n",
        "    axis=1\n",
        ")\n",
        "\n",
        "df_media_emotions[\"emotion_final\"] = df_media_emotions.apply(\n",
        "    lambda row: row[\"emotion_label\"] if row[\"emotion_score\"] >= EMOTION_THRESH else \"unspecified\",\n",
        "    axis=1\n",
        ")\n",
        "\n",
        "print(\"[INFO] Debates emotions distribution (after filtering):\")\n",
        "print(df_debates_emotions[\"emotion_final\"].value_counts(normalize=True) * 100, \"\\n\")\n",
        "\n",
        "print(\"[INFO] Media emotions distribution (after filtering):\")\n",
        "print(df_media_emotions[\"emotion_final\"].value_counts(normalize=True) * 100)"
      ]
    },
    {
      "cell_type": "markdown",
      "metadata": {
        "id": "-GpWj-esRyta"
      },
      "source": [
        "## 6. Exports"
      ]
    },
    {
      "cell_type": "code",
      "execution_count": 44,
      "metadata": {
        "colab": {
          "base_uri": "https://localhost:8080/"
        },
        "id": "hYGm4nTVeDrs",
        "outputId": "7ff54cef-2f99-48f0-d002-1837b4b2b34f"
      },
      "outputs": [
        {
          "name": "stdout",
          "output_type": "stream",
          "text": [
            "[DONE] Debates combined dataset saved: /content/drive/MyDrive/thesis/data/sentiment_emotion/debates_sentiment_emotions.csv\n",
            "                            utterance_id  \\\n",
            "0  1960_1_Presidential_Nixon_Kennedy_001   \n",
            "1  1960_1_Presidential_Nixon_Kennedy_002   \n",
            "2  1960_1_Presidential_Nixon_Kennedy_004   \n",
            "3  1960_1_Presidential_Nixon_Kennedy_005   \n",
            "4  1960_1_Presidential_Nixon_Kennedy_006   \n",
            "\n",
            "                                                text sentiment_label  \\\n",
            "0  good evening. the television and radio station...        positive   \n",
            "1  mr. smith, mr. nixon. in the election of 1860,...         neutral   \n",
            "2  mr. smith, senator kennedy. the things that se...         neutral   \n",
            "3  thank you, mr. nixon. that completes the openi...        positive   \n",
            "4  senator, the vice president in his campaign ha...        negative   \n",
            "\n",
            "   sentiment_score sentiment_final emotion_label  emotion_score emotion_final  \n",
            "0         0.734504        positive           joy       0.641503           joy  \n",
            "1         0.837423         neutral           joy       0.321501   unspecified  \n",
            "2         0.669891         neutral           joy       0.338791   unspecified  \n",
            "3         0.554536        positive           joy       0.756695           joy  \n",
            "4         0.610444        negative         anger       0.260542   unspecified  \n"
          ]
        }
      ],
      "source": [
        "# === MERGE DEBATES SENTIMENT + EMOTIONS ===\n",
        "\n",
        "df_debates_final = pd.DataFrame({\n",
        "    \"utterance_id\": df_debates_sentiment[\"utterance_id\"],\n",
        "    \"text\": df_debates_sentiment[\"text\"],\n",
        "\n",
        "    # sentiment\n",
        "    \"sentiment_label\": df_debates_sentiment[\"sentiment_label\"],\n",
        "    \"sentiment_score\": df_debates_sentiment[\"sentiment_score\"],\n",
        "    \"sentiment_final\": df_debates_sentiment[\"sentiment_final\"],\n",
        "\n",
        "    # emotions\n",
        "    \"emotion_label\": df_debates_emotions[\"emotion_label\"],\n",
        "    \"emotion_score\": df_debates_emotions[\"emotion_score\"],\n",
        "    \"emotion_final\": df_debates_emotions[\"emotion_final\"]\n",
        "})\n",
        "\n",
        "OUT_DIR = REPO_DIR / \"sentiment_emotion\"\n",
        "OUT_DIR.mkdir(parents=True, exist_ok=True)\n",
        "\n",
        "OUT_DEBATES = OUT_DIR / \"debates_sentiment_emotions.csv\"\n",
        "df_debates_final.to_csv(OUT_DEBATES, index=False)\n",
        "\n",
        "print(\"[DONE] Debates combined dataset saved:\", OUT_DEBATES)\n",
        "print(df_debates_final.head())"
      ]
    },
    {
      "cell_type": "code",
      "execution_count": 46,
      "metadata": {
        "colab": {
          "base_uri": "https://localhost:8080/"
        },
        "id": "VZMFu0tne7Id",
        "outputId": "7ed5d256-b993-4590-a236-9b5d07ce1096"
      },
      "outputs": [
        {
          "name": "stdout",
          "output_type": "stream",
          "text": [
            "[DONE] Media combined dataset saved: /content/drive/MyDrive/thesis/data/sentiment_emotion/media_sentiment_emotions.csv\n",
            "   chunk_index                                         chunk_text  \\\n",
            "0            2  stone said. jonathan gruber, the mit professor...   \n",
            "1            1  \"we're thinking of having him in the spin room...   \n",
            "2            7  iowa caucuses. trump was right when he accused...   \n",
            "3            1  if the government stops fighting a lawsuit tha...   \n",
            "4            1  foreign desk: stopping the ayatollahs' nukes n...   \n",
            "\n",
            "  sentiment_label  sentiment_score sentiment_final emotion_label  \\\n",
            "0        negative         0.494473     unspecified           joy   \n",
            "1         neutral         0.857393         neutral           joy   \n",
            "2         neutral         0.620738         neutral           joy   \n",
            "3        negative         0.523026        negative           joy   \n",
            "4         neutral         0.674028         neutral           joy   \n",
            "\n",
            "   emotion_score emotion_final  \n",
            "0       0.322961   unspecified  \n",
            "1       0.340010   unspecified  \n",
            "2       0.333045   unspecified  \n",
            "3       0.299062   unspecified  \n",
            "4       0.330131   unspecified  \n"
          ]
        }
      ],
      "source": [
        "# === MERGE MEDIA SENTIMENT + EMOTIONS ===\n",
        "\n",
        "df_media_final = pd.DataFrame({\n",
        "    \"chunk_index\": df_media_sentiment[\"chunk_index\"],   # or df_media.index if no chunk_id column\n",
        "    \"chunk_text\": df_media_sentiment[\"chunk_text\"],\n",
        "\n",
        "    # sentiment\n",
        "    \"sentiment_label\": df_media_sentiment[\"sentiment_label\"],\n",
        "    \"sentiment_score\": df_media_sentiment[\"sentiment_score\"],\n",
        "    \"sentiment_final\": df_media_sentiment[\"sentiment_final\"],\n",
        "\n",
        "    # emotions\n",
        "    \"emotion_label\": df_media_emotions[\"emotion_label\"],\n",
        "    \"emotion_score\": df_media_emotions[\"emotion_score\"],\n",
        "    \"emotion_final\": df_media_emotions[\"emotion_final\"]\n",
        "})\n",
        "\n",
        "OUT_MEDIA = OUT_DIR / \"media_sentiment_emotions.csv\"\n",
        "df_media_final.to_csv(OUT_MEDIA, index=False)\n",
        "\n",
        "print(\"[DONE] Media combined dataset saved:\", OUT_MEDIA)\n",
        "print(df_media_final.head())"
      ]
    }
  ],
  "metadata": {
    "accelerator": "GPU",
    "colab": {
      "collapsed_sections": [
        "pgsyzPKWRytY",
        "E6kh_tXERytZ",
        "JRAOTja4Ryta"
      ],
      "gpuType": "T4",
      "provenance": []
    },
    "kernelspec": {
      "display_name": "Python 3",
      "name": "python3"
    },
    "language_info": {
      "name": "python"
    }
  },
  "nbformat": 4,
  "nbformat_minor": 0
}
